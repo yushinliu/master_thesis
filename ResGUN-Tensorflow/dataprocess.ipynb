{
 "cells": [
  {
   "cell_type": "code",
   "execution_count": 1,
   "metadata": {
    "collapsed": true
   },
   "outputs": [],
   "source": [
    "from utils.data import load_dataset,get_batch,get_test_set"
   ]
  },
  {
   "cell_type": "code",
   "execution_count": 2,
   "metadata": {
    "collapsed": true
   },
   "outputs": [],
   "source": [
    "img_dir = \"D://LAB//master_thesis//dataset//General-100\""
   ]
  },
  {
   "cell_type": "code",
   "execution_count": 3,
   "metadata": {},
   "outputs": [
    {
     "name": "stdout",
     "output_type": "stream",
     "text": [
      "100\n"
     ]
    }
   ],
   "source": [
    "train_set,test_set=load_dataset(img_dir,100)"
   ]
  },
  {
   "cell_type": "code",
   "execution_count": 4,
   "metadata": {},
   "outputs": [
    {
     "name": "stderr",
     "output_type": "stream",
     "text": [
      "D:\\ProgramData\\Anaconda3\\lib\\site-packages\\scipy\\misc\\pilutil.py:482: FutureWarning: Conversion of the second argument of issubdtype from `int` to `np.signedinteger` is deprecated. In future, it will be treated as `np.int32 == np.dtype(int).type`.\n",
      "  if issubdtype(ts, int):\n",
      "D:\\ProgramData\\Anaconda3\\lib\\site-packages\\scipy\\misc\\pilutil.py:485: FutureWarning: Conversion of the second argument of issubdtype from `float` to `np.floating` is deprecated. In future, it will be treated as `np.float64 == np.dtype(float).type`.\n",
      "  elif issubdtype(type(size), float):\n"
     ]
    }
   ],
   "source": [
    "x,y,_=get_batch(10,50)"
   ]
  },
  {
   "cell_type": "code",
   "execution_count": 8,
   "metadata": {},
   "outputs": [
    {
     "data": {
      "text/plain": [
       "(100, 100, 3)"
      ]
     },
     "execution_count": 8,
     "metadata": {},
     "output_type": "execute_result"
    }
   ],
   "source": [
    "y[0].shape"
   ]
  },
  {
   "cell_type": "code",
   "execution_count": 13,
   "metadata": {},
   "outputs": [
    {
     "data": {
      "text/plain": [
       "(100, 100, 3)"
      ]
     },
     "execution_count": 13,
     "metadata": {},
     "output_type": "execute_result"
    }
   ],
   "source": [
    "train_set[0].shape"
   ]
  },
  {
   "cell_type": "code",
   "execution_count": 16,
   "metadata": {
    "collapsed": true
   },
   "outputs": [],
   "source": [
    "s=\"helloasdsadsasad\""
   ]
  },
  {
   "cell_type": "code",
   "execution_count": 18,
   "metadata": {},
   "outputs": [
    {
     "data": {
      "text/plain": [
       "'elloasdsadsasad'"
      ]
     },
     "execution_count": 18,
     "metadata": {},
     "output_type": "execute_result"
    }
   ],
   "source": [
    "s[1:]"
   ]
  },
  {
   "cell_type": "code",
   "execution_count": 1,
   "metadata": {},
   "outputs": [
    {
     "name": "stderr",
     "output_type": "stream",
     "text": [
      "D:\\ProgramData\\Anaconda3\\lib\\site-packages\\h5py\\__init__.py:34: FutureWarning: Conversion of the second argument of issubdtype from `float` to `np.floating` is deprecated. In future, it will be treated as `np.float64 == np.dtype(float).type`.\n",
      "  from ._conv import register_converters as _register_converters\n"
     ]
    }
   ],
   "source": [
    "import tensorflow as tf\n",
    "import os\n",
    "from model.ResGun_2x import ResGUN"
   ]
  },
  {
   "cell_type": "code",
   "execution_count": 2,
   "metadata": {},
   "outputs": [
    {
     "name": "stdout",
     "output_type": "stream",
     "text": [
      "Building ResGun...\n",
      "(?, 100, 100, 3)\n",
      "Done building!\n"
     ]
    }
   ],
   "source": [
    "network=ResGUN(50,16,64,2)\n"
   ]
  },
  {
   "cell_type": "code",
   "execution_count": 6,
   "metadata": {},
   "outputs": [
    {
     "name": "stdout",
     "output_type": "stream",
     "text": [
      "Restoring...\n",
      "INFO:tensorflow:Restoring parameters from ./save_model\\model\n"
     ]
    },
    {
     "ename": "NotFoundError",
     "evalue": "Key Conv_100/biases not found in checkpoint\n\t [[Node: save/RestoreV2 = RestoreV2[dtypes=[DT_FLOAT, DT_FLOAT, DT_FLOAT, DT_FLOAT, DT_FLOAT, ..., DT_FLOAT, DT_FLOAT, DT_FLOAT, DT_FLOAT, DT_FLOAT], _device=\"/job:localhost/replica:0/task:0/device:CPU:0\"](_arg_save/Const_0_0, save/RestoreV2/tensor_names, save/RestoreV2/shape_and_slices)]]\n\t [[Node: save/RestoreV2/_79 = _Recv[client_terminated=false, recv_device=\"/job:localhost/replica:0/task:0/device:GPU:0\", send_device=\"/job:localhost/replica:0/task:0/device:CPU:0\", send_device_incarnation=1, tensor_name=\"edge_84_save/RestoreV2\", tensor_type=DT_FLOAT, _device=\"/job:localhost/replica:0/task:0/device:GPU:0\"]()]]\n\nCaused by op 'save/RestoreV2', defined at:\n  File \"D:\\ProgramData\\Anaconda3\\lib\\runpy.py\", line 193, in _run_module_as_main\n    \"__main__\", mod_spec)\n  File \"D:\\ProgramData\\Anaconda3\\lib\\runpy.py\", line 85, in _run_code\n    exec(code, run_globals)\n  File \"D:\\ProgramData\\Anaconda3\\lib\\site-packages\\ipykernel_launcher.py\", line 16, in <module>\n    app.launch_new_instance()\n  File \"D:\\ProgramData\\Anaconda3\\lib\\site-packages\\traitlets\\config\\application.py\", line 658, in launch_instance\n    app.start()\n  File \"D:\\ProgramData\\Anaconda3\\lib\\site-packages\\ipykernel\\kernelapp.py\", line 477, in start\n    ioloop.IOLoop.instance().start()\n  File \"D:\\ProgramData\\Anaconda3\\lib\\site-packages\\zmq\\eventloop\\ioloop.py\", line 177, in start\n    super(ZMQIOLoop, self).start()\n  File \"D:\\ProgramData\\Anaconda3\\lib\\site-packages\\tornado\\ioloop.py\", line 888, in start\n    handler_func(fd_obj, events)\n  File \"D:\\ProgramData\\Anaconda3\\lib\\site-packages\\tornado\\stack_context.py\", line 277, in null_wrapper\n    return fn(*args, **kwargs)\n  File \"D:\\ProgramData\\Anaconda3\\lib\\site-packages\\zmq\\eventloop\\zmqstream.py\", line 440, in _handle_events\n    self._handle_recv()\n  File \"D:\\ProgramData\\Anaconda3\\lib\\site-packages\\zmq\\eventloop\\zmqstream.py\", line 472, in _handle_recv\n    self._run_callback(callback, msg)\n  File \"D:\\ProgramData\\Anaconda3\\lib\\site-packages\\zmq\\eventloop\\zmqstream.py\", line 414, in _run_callback\n    callback(*args, **kwargs)\n  File \"D:\\ProgramData\\Anaconda3\\lib\\site-packages\\tornado\\stack_context.py\", line 277, in null_wrapper\n    return fn(*args, **kwargs)\n  File \"D:\\ProgramData\\Anaconda3\\lib\\site-packages\\ipykernel\\kernelbase.py\", line 283, in dispatcher\n    return self.dispatch_shell(stream, msg)\n  File \"D:\\ProgramData\\Anaconda3\\lib\\site-packages\\ipykernel\\kernelbase.py\", line 235, in dispatch_shell\n    handler(stream, idents, msg)\n  File \"D:\\ProgramData\\Anaconda3\\lib\\site-packages\\ipykernel\\kernelbase.py\", line 399, in execute_request\n    user_expressions, allow_stdin)\n  File \"D:\\ProgramData\\Anaconda3\\lib\\site-packages\\ipykernel\\ipkernel.py\", line 196, in do_execute\n    res = shell.run_cell(code, store_history=store_history, silent=silent)\n  File \"D:\\ProgramData\\Anaconda3\\lib\\site-packages\\ipykernel\\zmqshell.py\", line 533, in run_cell\n    return super(ZMQInteractiveShell, self).run_cell(*args, **kwargs)\n  File \"D:\\ProgramData\\Anaconda3\\lib\\site-packages\\IPython\\core\\interactiveshell.py\", line 2717, in run_cell\n    interactivity=interactivity, compiler=compiler, result=result)\n  File \"D:\\ProgramData\\Anaconda3\\lib\\site-packages\\IPython\\core\\interactiveshell.py\", line 2821, in run_ast_nodes\n    if self.run_code(code, result):\n  File \"D:\\ProgramData\\Anaconda3\\lib\\site-packages\\IPython\\core\\interactiveshell.py\", line 2881, in run_code\n    exec(code_obj, self.user_global_ns, self.user_ns)\n  File \"<ipython-input-2-c6c3b416da83>\", line 1, in <module>\n    network=ResGUN(50,16,64,2)\n  File \"D:\\LAB\\master_thesis\\ResGUN-Tensorflow\\model\\ResGun_2x.py\", line 78, in __init__\n    self.saver = tf.train.Saver()\n  File \"D:\\ProgramData\\Anaconda3\\lib\\site-packages\\tensorflow\\python\\training\\saver.py\", line 1293, in __init__\n    self.build()\n  File \"D:\\ProgramData\\Anaconda3\\lib\\site-packages\\tensorflow\\python\\training\\saver.py\", line 1302, in build\n    self._build(self._filename, build_save=True, build_restore=True)\n  File \"D:\\ProgramData\\Anaconda3\\lib\\site-packages\\tensorflow\\python\\training\\saver.py\", line 1339, in _build\n    build_save=build_save, build_restore=build_restore)\n  File \"D:\\ProgramData\\Anaconda3\\lib\\site-packages\\tensorflow\\python\\training\\saver.py\", line 796, in _build_internal\n    restore_sequentially, reshape)\n  File \"D:\\ProgramData\\Anaconda3\\lib\\site-packages\\tensorflow\\python\\training\\saver.py\", line 449, in _AddRestoreOps\n    restore_sequentially)\n  File \"D:\\ProgramData\\Anaconda3\\lib\\site-packages\\tensorflow\\python\\training\\saver.py\", line 847, in bulk_restore\n    return io_ops.restore_v2(filename_tensor, names, slices, dtypes)\n  File \"D:\\ProgramData\\Anaconda3\\lib\\site-packages\\tensorflow\\python\\ops\\gen_io_ops.py\", line 1113, in restore_v2\n    shape_and_slices=shape_and_slices, dtypes=dtypes, name=name)\n  File \"D:\\ProgramData\\Anaconda3\\lib\\site-packages\\tensorflow\\python\\framework\\op_def_library.py\", line 787, in _apply_op_helper\n    op_def=op_def)\n  File \"D:\\ProgramData\\Anaconda3\\lib\\site-packages\\tensorflow\\python\\framework\\ops.py\", line 3271, in create_op\n    op_def=op_def)\n  File \"D:\\ProgramData\\Anaconda3\\lib\\site-packages\\tensorflow\\python\\framework\\ops.py\", line 1650, in __init__\n    self._traceback = self._graph._extract_stack()  # pylint: disable=protected-access\n\nNotFoundError (see above for traceback): Key Conv_100/biases not found in checkpoint\n\t [[Node: save/RestoreV2 = RestoreV2[dtypes=[DT_FLOAT, DT_FLOAT, DT_FLOAT, DT_FLOAT, DT_FLOAT, ..., DT_FLOAT, DT_FLOAT, DT_FLOAT, DT_FLOAT, DT_FLOAT], _device=\"/job:localhost/replica:0/task:0/device:CPU:0\"](_arg_save/Const_0_0, save/RestoreV2/tensor_names, save/RestoreV2/shape_and_slices)]]\n\t [[Node: save/RestoreV2/_79 = _Recv[client_terminated=false, recv_device=\"/job:localhost/replica:0/task:0/device:GPU:0\", send_device=\"/job:localhost/replica:0/task:0/device:CPU:0\", send_device_incarnation=1, tensor_name=\"edge_84_save/RestoreV2\", tensor_type=DT_FLOAT, _device=\"/job:localhost/replica:0/task:0/device:GPU:0\"]()]]\n",
     "output_type": "error",
     "traceback": [
      "\u001b[1;31m---------------------------------------------------------------------------\u001b[0m",
      "\u001b[1;31mNotFoundError\u001b[0m                             Traceback (most recent call last)",
      "\u001b[1;32mD:\\ProgramData\\Anaconda3\\lib\\site-packages\\tensorflow\\python\\client\\session.py\u001b[0m in \u001b[0;36m_do_call\u001b[1;34m(self, fn, *args)\u001b[0m\n\u001b[0;32m   1360\u001b[0m     \u001b[1;32mtry\u001b[0m\u001b[1;33m:\u001b[0m\u001b[1;33m\u001b[0m\u001b[0m\n\u001b[1;32m-> 1361\u001b[1;33m       \u001b[1;32mreturn\u001b[0m \u001b[0mfn\u001b[0m\u001b[1;33m(\u001b[0m\u001b[1;33m*\u001b[0m\u001b[0margs\u001b[0m\u001b[1;33m)\u001b[0m\u001b[1;33m\u001b[0m\u001b[0m\n\u001b[0m\u001b[0;32m   1362\u001b[0m     \u001b[1;32mexcept\u001b[0m \u001b[0merrors\u001b[0m\u001b[1;33m.\u001b[0m\u001b[0mOpError\u001b[0m \u001b[1;32mas\u001b[0m \u001b[0me\u001b[0m\u001b[1;33m:\u001b[0m\u001b[1;33m\u001b[0m\u001b[0m\n",
      "\u001b[1;32mD:\\ProgramData\\Anaconda3\\lib\\site-packages\\tensorflow\\python\\client\\session.py\u001b[0m in \u001b[0;36m_run_fn\u001b[1;34m(session, feed_dict, fetch_list, target_list, options, run_metadata)\u001b[0m\n\u001b[0;32m   1339\u001b[0m           return tf_session.TF_Run(session, options, feed_dict, fetch_list,\n\u001b[1;32m-> 1340\u001b[1;33m                                    target_list, status, run_metadata)\n\u001b[0m\u001b[0;32m   1341\u001b[0m \u001b[1;33m\u001b[0m\u001b[0m\n",
      "\u001b[1;32mD:\\ProgramData\\Anaconda3\\lib\\site-packages\\tensorflow\\python\\framework\\errors_impl.py\u001b[0m in \u001b[0;36m__exit__\u001b[1;34m(self, type_arg, value_arg, traceback_arg)\u001b[0m\n\u001b[0;32m    515\u001b[0m             \u001b[0mcompat\u001b[0m\u001b[1;33m.\u001b[0m\u001b[0mas_text\u001b[0m\u001b[1;33m(\u001b[0m\u001b[0mc_api\u001b[0m\u001b[1;33m.\u001b[0m\u001b[0mTF_Message\u001b[0m\u001b[1;33m(\u001b[0m\u001b[0mself\u001b[0m\u001b[1;33m.\u001b[0m\u001b[0mstatus\u001b[0m\u001b[1;33m.\u001b[0m\u001b[0mstatus\u001b[0m\u001b[1;33m)\u001b[0m\u001b[1;33m)\u001b[0m\u001b[1;33m,\u001b[0m\u001b[1;33m\u001b[0m\u001b[0m\n\u001b[1;32m--> 516\u001b[1;33m             c_api.TF_GetCode(self.status.status))\n\u001b[0m\u001b[0;32m    517\u001b[0m     \u001b[1;31m# Delete the underlying status object from memory otherwise it stays alive\u001b[0m\u001b[1;33m\u001b[0m\u001b[1;33m\u001b[0m\u001b[0m\n",
      "\u001b[1;31mNotFoundError\u001b[0m: Key Conv_100/biases not found in checkpoint\n\t [[Node: save/RestoreV2 = RestoreV2[dtypes=[DT_FLOAT, DT_FLOAT, DT_FLOAT, DT_FLOAT, DT_FLOAT, ..., DT_FLOAT, DT_FLOAT, DT_FLOAT, DT_FLOAT, DT_FLOAT], _device=\"/job:localhost/replica:0/task:0/device:CPU:0\"](_arg_save/Const_0_0, save/RestoreV2/tensor_names, save/RestoreV2/shape_and_slices)]]\n\t [[Node: save/RestoreV2/_79 = _Recv[client_terminated=false, recv_device=\"/job:localhost/replica:0/task:0/device:GPU:0\", send_device=\"/job:localhost/replica:0/task:0/device:CPU:0\", send_device_incarnation=1, tensor_name=\"edge_84_save/RestoreV2\", tensor_type=DT_FLOAT, _device=\"/job:localhost/replica:0/task:0/device:GPU:0\"]()]]",
      "\nDuring handling of the above exception, another exception occurred:\n",
      "\u001b[1;31mNotFoundError\u001b[0m                             Traceback (most recent call last)",
      "\u001b[1;32m<ipython-input-6-901dcb107928>\u001b[0m in \u001b[0;36m<module>\u001b[1;34m()\u001b[0m\n\u001b[0;32m      1\u001b[0m \u001b[0mos\u001b[0m\u001b[1;33m.\u001b[0m\u001b[0menviron\u001b[0m\u001b[1;33m[\u001b[0m\u001b[1;34m'CUDA_VISIBLE_DEVICES'\u001b[0m\u001b[1;33m]\u001b[0m \u001b[1;33m=\u001b[0m\u001b[1;34m'0'\u001b[0m\u001b[1;33m\u001b[0m\u001b[0m\n\u001b[1;32m----> 2\u001b[1;33m \u001b[0mnetwork\u001b[0m\u001b[1;33m.\u001b[0m\u001b[0mresume\u001b[0m\u001b[1;33m(\u001b[0m\u001b[0msavedir\u001b[0m\u001b[1;33m=\u001b[0m\u001b[1;34m\"./save_model\"\u001b[0m\u001b[1;33m)\u001b[0m\u001b[1;33m\u001b[0m\u001b[0m\n\u001b[0m",
      "\u001b[1;32mD:\\LAB\\master_thesis\\ResGUN-Tensorflow\\model\\ResGun_2x.py\u001b[0m in \u001b[0;36mresume\u001b[1;34m(self, savedir)\u001b[0m\n\u001b[0;32m     92\u001b[0m         \u001b[1;32mdef\u001b[0m \u001b[0mresume\u001b[0m\u001b[1;33m(\u001b[0m\u001b[0mself\u001b[0m\u001b[1;33m,\u001b[0m\u001b[0msavedir\u001b[0m\u001b[1;33m=\u001b[0m\u001b[1;34m'saved_models'\u001b[0m\u001b[1;33m)\u001b[0m\u001b[1;33m:\u001b[0m\u001b[1;33m\u001b[0m\u001b[0m\n\u001b[0;32m     93\u001b[0m                 \u001b[0mprint\u001b[0m\u001b[1;33m(\u001b[0m\u001b[1;34m\"Restoring...\"\u001b[0m\u001b[1;33m)\u001b[0m\u001b[1;33m\u001b[0m\u001b[0m\n\u001b[1;32m---> 94\u001b[1;33m                 \u001b[0mself\u001b[0m\u001b[1;33m.\u001b[0m\u001b[0msaver\u001b[0m\u001b[1;33m.\u001b[0m\u001b[0mrestore\u001b[0m\u001b[1;33m(\u001b[0m\u001b[0mself\u001b[0m\u001b[1;33m.\u001b[0m\u001b[0msess\u001b[0m\u001b[1;33m,\u001b[0m\u001b[0mtf\u001b[0m\u001b[1;33m.\u001b[0m\u001b[0mtrain\u001b[0m\u001b[1;33m.\u001b[0m\u001b[0mlatest_checkpoint\u001b[0m\u001b[1;33m(\u001b[0m\u001b[0msavedir\u001b[0m\u001b[1;33m)\u001b[0m\u001b[1;33m)\u001b[0m\u001b[1;33m\u001b[0m\u001b[0m\n\u001b[0m\u001b[0;32m     95\u001b[0m                 \u001b[0mprint\u001b[0m\u001b[1;33m(\u001b[0m\u001b[1;34m\"Restored!\"\u001b[0m\u001b[1;33m)\u001b[0m\u001b[1;33m\u001b[0m\u001b[0m\n\u001b[0;32m     96\u001b[0m \u001b[1;33m\u001b[0m\u001b[0m\n",
      "\u001b[1;32mD:\\ProgramData\\Anaconda3\\lib\\site-packages\\tensorflow\\python\\training\\saver.py\u001b[0m in \u001b[0;36mrestore\u001b[1;34m(self, sess, save_path)\u001b[0m\n\u001b[0;32m   1753\u001b[0m     \u001b[1;32mif\u001b[0m \u001b[0mcontext\u001b[0m\u001b[1;33m.\u001b[0m\u001b[0min_graph_mode\u001b[0m\u001b[1;33m(\u001b[0m\u001b[1;33m)\u001b[0m\u001b[1;33m:\u001b[0m\u001b[1;33m\u001b[0m\u001b[0m\n\u001b[0;32m   1754\u001b[0m       sess.run(self.saver_def.restore_op_name,\n\u001b[1;32m-> 1755\u001b[1;33m                {self.saver_def.filename_tensor_name: save_path})\n\u001b[0m\u001b[0;32m   1756\u001b[0m     \u001b[1;32melse\u001b[0m\u001b[1;33m:\u001b[0m\u001b[1;33m\u001b[0m\u001b[0m\n\u001b[0;32m   1757\u001b[0m       \u001b[0mself\u001b[0m\u001b[1;33m.\u001b[0m\u001b[0m_build_eager\u001b[0m\u001b[1;33m(\u001b[0m\u001b[0msave_path\u001b[0m\u001b[1;33m,\u001b[0m \u001b[0mbuild_save\u001b[0m\u001b[1;33m=\u001b[0m\u001b[1;32mFalse\u001b[0m\u001b[1;33m,\u001b[0m \u001b[0mbuild_restore\u001b[0m\u001b[1;33m=\u001b[0m\u001b[1;32mTrue\u001b[0m\u001b[1;33m)\u001b[0m\u001b[1;33m\u001b[0m\u001b[0m\n",
      "\u001b[1;32mD:\\ProgramData\\Anaconda3\\lib\\site-packages\\tensorflow\\python\\client\\session.py\u001b[0m in \u001b[0;36mrun\u001b[1;34m(self, fetches, feed_dict, options, run_metadata)\u001b[0m\n\u001b[0;32m    903\u001b[0m     \u001b[1;32mtry\u001b[0m\u001b[1;33m:\u001b[0m\u001b[1;33m\u001b[0m\u001b[0m\n\u001b[0;32m    904\u001b[0m       result = self._run(None, fetches, feed_dict, options_ptr,\n\u001b[1;32m--> 905\u001b[1;33m                          run_metadata_ptr)\n\u001b[0m\u001b[0;32m    906\u001b[0m       \u001b[1;32mif\u001b[0m \u001b[0mrun_metadata\u001b[0m\u001b[1;33m:\u001b[0m\u001b[1;33m\u001b[0m\u001b[0m\n\u001b[0;32m    907\u001b[0m         \u001b[0mproto_data\u001b[0m \u001b[1;33m=\u001b[0m \u001b[0mtf_session\u001b[0m\u001b[1;33m.\u001b[0m\u001b[0mTF_GetBuffer\u001b[0m\u001b[1;33m(\u001b[0m\u001b[0mrun_metadata_ptr\u001b[0m\u001b[1;33m)\u001b[0m\u001b[1;33m\u001b[0m\u001b[0m\n",
      "\u001b[1;32mD:\\ProgramData\\Anaconda3\\lib\\site-packages\\tensorflow\\python\\client\\session.py\u001b[0m in \u001b[0;36m_run\u001b[1;34m(self, handle, fetches, feed_dict, options, run_metadata)\u001b[0m\n\u001b[0;32m   1135\u001b[0m     \u001b[1;32mif\u001b[0m \u001b[0mfinal_fetches\u001b[0m \u001b[1;32mor\u001b[0m \u001b[0mfinal_targets\u001b[0m \u001b[1;32mor\u001b[0m \u001b[1;33m(\u001b[0m\u001b[0mhandle\u001b[0m \u001b[1;32mand\u001b[0m \u001b[0mfeed_dict_tensor\u001b[0m\u001b[1;33m)\u001b[0m\u001b[1;33m:\u001b[0m\u001b[1;33m\u001b[0m\u001b[0m\n\u001b[0;32m   1136\u001b[0m       results = self._do_run(handle, final_targets, final_fetches,\n\u001b[1;32m-> 1137\u001b[1;33m                              feed_dict_tensor, options, run_metadata)\n\u001b[0m\u001b[0;32m   1138\u001b[0m     \u001b[1;32melse\u001b[0m\u001b[1;33m:\u001b[0m\u001b[1;33m\u001b[0m\u001b[0m\n\u001b[0;32m   1139\u001b[0m       \u001b[0mresults\u001b[0m \u001b[1;33m=\u001b[0m \u001b[1;33m[\u001b[0m\u001b[1;33m]\u001b[0m\u001b[1;33m\u001b[0m\u001b[0m\n",
      "\u001b[1;32mD:\\ProgramData\\Anaconda3\\lib\\site-packages\\tensorflow\\python\\client\\session.py\u001b[0m in \u001b[0;36m_do_run\u001b[1;34m(self, handle, target_list, fetch_list, feed_dict, options, run_metadata)\u001b[0m\n\u001b[0;32m   1353\u001b[0m     \u001b[1;32mif\u001b[0m \u001b[0mhandle\u001b[0m \u001b[1;32mis\u001b[0m \u001b[1;32mNone\u001b[0m\u001b[1;33m:\u001b[0m\u001b[1;33m\u001b[0m\u001b[0m\n\u001b[0;32m   1354\u001b[0m       return self._do_call(_run_fn, self._session, feeds, fetches, targets,\n\u001b[1;32m-> 1355\u001b[1;33m                            options, run_metadata)\n\u001b[0m\u001b[0;32m   1356\u001b[0m     \u001b[1;32melse\u001b[0m\u001b[1;33m:\u001b[0m\u001b[1;33m\u001b[0m\u001b[0m\n\u001b[0;32m   1357\u001b[0m       \u001b[1;32mreturn\u001b[0m \u001b[0mself\u001b[0m\u001b[1;33m.\u001b[0m\u001b[0m_do_call\u001b[0m\u001b[1;33m(\u001b[0m\u001b[0m_prun_fn\u001b[0m\u001b[1;33m,\u001b[0m \u001b[0mself\u001b[0m\u001b[1;33m.\u001b[0m\u001b[0m_session\u001b[0m\u001b[1;33m,\u001b[0m \u001b[0mhandle\u001b[0m\u001b[1;33m,\u001b[0m \u001b[0mfeeds\u001b[0m\u001b[1;33m,\u001b[0m \u001b[0mfetches\u001b[0m\u001b[1;33m)\u001b[0m\u001b[1;33m\u001b[0m\u001b[0m\n",
      "\u001b[1;32mD:\\ProgramData\\Anaconda3\\lib\\site-packages\\tensorflow\\python\\client\\session.py\u001b[0m in \u001b[0;36m_do_call\u001b[1;34m(self, fn, *args)\u001b[0m\n\u001b[0;32m   1372\u001b[0m         \u001b[1;32mexcept\u001b[0m \u001b[0mKeyError\u001b[0m\u001b[1;33m:\u001b[0m\u001b[1;33m\u001b[0m\u001b[0m\n\u001b[0;32m   1373\u001b[0m           \u001b[1;32mpass\u001b[0m\u001b[1;33m\u001b[0m\u001b[0m\n\u001b[1;32m-> 1374\u001b[1;33m       \u001b[1;32mraise\u001b[0m \u001b[0mtype\u001b[0m\u001b[1;33m(\u001b[0m\u001b[0me\u001b[0m\u001b[1;33m)\u001b[0m\u001b[1;33m(\u001b[0m\u001b[0mnode_def\u001b[0m\u001b[1;33m,\u001b[0m \u001b[0mop\u001b[0m\u001b[1;33m,\u001b[0m \u001b[0mmessage\u001b[0m\u001b[1;33m)\u001b[0m\u001b[1;33m\u001b[0m\u001b[0m\n\u001b[0m\u001b[0;32m   1375\u001b[0m \u001b[1;33m\u001b[0m\u001b[0m\n\u001b[0;32m   1376\u001b[0m   \u001b[1;32mdef\u001b[0m \u001b[0m_extend_graph\u001b[0m\u001b[1;33m(\u001b[0m\u001b[0mself\u001b[0m\u001b[1;33m)\u001b[0m\u001b[1;33m:\u001b[0m\u001b[1;33m\u001b[0m\u001b[0m\n",
      "\u001b[1;31mNotFoundError\u001b[0m: Key Conv_100/biases not found in checkpoint\n\t [[Node: save/RestoreV2 = RestoreV2[dtypes=[DT_FLOAT, DT_FLOAT, DT_FLOAT, DT_FLOAT, DT_FLOAT, ..., DT_FLOAT, DT_FLOAT, DT_FLOAT, DT_FLOAT, DT_FLOAT], _device=\"/job:localhost/replica:0/task:0/device:CPU:0\"](_arg_save/Const_0_0, save/RestoreV2/tensor_names, save/RestoreV2/shape_and_slices)]]\n\t [[Node: save/RestoreV2/_79 = _Recv[client_terminated=false, recv_device=\"/job:localhost/replica:0/task:0/device:GPU:0\", send_device=\"/job:localhost/replica:0/task:0/device:CPU:0\", send_device_incarnation=1, tensor_name=\"edge_84_save/RestoreV2\", tensor_type=DT_FLOAT, _device=\"/job:localhost/replica:0/task:0/device:GPU:0\"]()]]\n\nCaused by op 'save/RestoreV2', defined at:\n  File \"D:\\ProgramData\\Anaconda3\\lib\\runpy.py\", line 193, in _run_module_as_main\n    \"__main__\", mod_spec)\n  File \"D:\\ProgramData\\Anaconda3\\lib\\runpy.py\", line 85, in _run_code\n    exec(code, run_globals)\n  File \"D:\\ProgramData\\Anaconda3\\lib\\site-packages\\ipykernel_launcher.py\", line 16, in <module>\n    app.launch_new_instance()\n  File \"D:\\ProgramData\\Anaconda3\\lib\\site-packages\\traitlets\\config\\application.py\", line 658, in launch_instance\n    app.start()\n  File \"D:\\ProgramData\\Anaconda3\\lib\\site-packages\\ipykernel\\kernelapp.py\", line 477, in start\n    ioloop.IOLoop.instance().start()\n  File \"D:\\ProgramData\\Anaconda3\\lib\\site-packages\\zmq\\eventloop\\ioloop.py\", line 177, in start\n    super(ZMQIOLoop, self).start()\n  File \"D:\\ProgramData\\Anaconda3\\lib\\site-packages\\tornado\\ioloop.py\", line 888, in start\n    handler_func(fd_obj, events)\n  File \"D:\\ProgramData\\Anaconda3\\lib\\site-packages\\tornado\\stack_context.py\", line 277, in null_wrapper\n    return fn(*args, **kwargs)\n  File \"D:\\ProgramData\\Anaconda3\\lib\\site-packages\\zmq\\eventloop\\zmqstream.py\", line 440, in _handle_events\n    self._handle_recv()\n  File \"D:\\ProgramData\\Anaconda3\\lib\\site-packages\\zmq\\eventloop\\zmqstream.py\", line 472, in _handle_recv\n    self._run_callback(callback, msg)\n  File \"D:\\ProgramData\\Anaconda3\\lib\\site-packages\\zmq\\eventloop\\zmqstream.py\", line 414, in _run_callback\n    callback(*args, **kwargs)\n  File \"D:\\ProgramData\\Anaconda3\\lib\\site-packages\\tornado\\stack_context.py\", line 277, in null_wrapper\n    return fn(*args, **kwargs)\n  File \"D:\\ProgramData\\Anaconda3\\lib\\site-packages\\ipykernel\\kernelbase.py\", line 283, in dispatcher\n    return self.dispatch_shell(stream, msg)\n  File \"D:\\ProgramData\\Anaconda3\\lib\\site-packages\\ipykernel\\kernelbase.py\", line 235, in dispatch_shell\n    handler(stream, idents, msg)\n  File \"D:\\ProgramData\\Anaconda3\\lib\\site-packages\\ipykernel\\kernelbase.py\", line 399, in execute_request\n    user_expressions, allow_stdin)\n  File \"D:\\ProgramData\\Anaconda3\\lib\\site-packages\\ipykernel\\ipkernel.py\", line 196, in do_execute\n    res = shell.run_cell(code, store_history=store_history, silent=silent)\n  File \"D:\\ProgramData\\Anaconda3\\lib\\site-packages\\ipykernel\\zmqshell.py\", line 533, in run_cell\n    return super(ZMQInteractiveShell, self).run_cell(*args, **kwargs)\n  File \"D:\\ProgramData\\Anaconda3\\lib\\site-packages\\IPython\\core\\interactiveshell.py\", line 2717, in run_cell\n    interactivity=interactivity, compiler=compiler, result=result)\n  File \"D:\\ProgramData\\Anaconda3\\lib\\site-packages\\IPython\\core\\interactiveshell.py\", line 2821, in run_ast_nodes\n    if self.run_code(code, result):\n  File \"D:\\ProgramData\\Anaconda3\\lib\\site-packages\\IPython\\core\\interactiveshell.py\", line 2881, in run_code\n    exec(code_obj, self.user_global_ns, self.user_ns)\n  File \"<ipython-input-2-c6c3b416da83>\", line 1, in <module>\n    network=ResGUN(50,16,64,2)\n  File \"D:\\LAB\\master_thesis\\ResGUN-Tensorflow\\model\\ResGun_2x.py\", line 78, in __init__\n    self.saver = tf.train.Saver()\n  File \"D:\\ProgramData\\Anaconda3\\lib\\site-packages\\tensorflow\\python\\training\\saver.py\", line 1293, in __init__\n    self.build()\n  File \"D:\\ProgramData\\Anaconda3\\lib\\site-packages\\tensorflow\\python\\training\\saver.py\", line 1302, in build\n    self._build(self._filename, build_save=True, build_restore=True)\n  File \"D:\\ProgramData\\Anaconda3\\lib\\site-packages\\tensorflow\\python\\training\\saver.py\", line 1339, in _build\n    build_save=build_save, build_restore=build_restore)\n  File \"D:\\ProgramData\\Anaconda3\\lib\\site-packages\\tensorflow\\python\\training\\saver.py\", line 796, in _build_internal\n    restore_sequentially, reshape)\n  File \"D:\\ProgramData\\Anaconda3\\lib\\site-packages\\tensorflow\\python\\training\\saver.py\", line 449, in _AddRestoreOps\n    restore_sequentially)\n  File \"D:\\ProgramData\\Anaconda3\\lib\\site-packages\\tensorflow\\python\\training\\saver.py\", line 847, in bulk_restore\n    return io_ops.restore_v2(filename_tensor, names, slices, dtypes)\n  File \"D:\\ProgramData\\Anaconda3\\lib\\site-packages\\tensorflow\\python\\ops\\gen_io_ops.py\", line 1113, in restore_v2\n    shape_and_slices=shape_and_slices, dtypes=dtypes, name=name)\n  File \"D:\\ProgramData\\Anaconda3\\lib\\site-packages\\tensorflow\\python\\framework\\op_def_library.py\", line 787, in _apply_op_helper\n    op_def=op_def)\n  File \"D:\\ProgramData\\Anaconda3\\lib\\site-packages\\tensorflow\\python\\framework\\ops.py\", line 3271, in create_op\n    op_def=op_def)\n  File \"D:\\ProgramData\\Anaconda3\\lib\\site-packages\\tensorflow\\python\\framework\\ops.py\", line 1650, in __init__\n    self._traceback = self._graph._extract_stack()  # pylint: disable=protected-access\n\nNotFoundError (see above for traceback): Key Conv_100/biases not found in checkpoint\n\t [[Node: save/RestoreV2 = RestoreV2[dtypes=[DT_FLOAT, DT_FLOAT, DT_FLOAT, DT_FLOAT, DT_FLOAT, ..., DT_FLOAT, DT_FLOAT, DT_FLOAT, DT_FLOAT, DT_FLOAT], _device=\"/job:localhost/replica:0/task:0/device:CPU:0\"](_arg_save/Const_0_0, save/RestoreV2/tensor_names, save/RestoreV2/shape_and_slices)]]\n\t [[Node: save/RestoreV2/_79 = _Recv[client_terminated=false, recv_device=\"/job:localhost/replica:0/task:0/device:GPU:0\", send_device=\"/job:localhost/replica:0/task:0/device:CPU:0\", send_device_incarnation=1, tensor_name=\"edge_84_save/RestoreV2\", tensor_type=DT_FLOAT, _device=\"/job:localhost/replica:0/task:0/device:GPU:0\"]()]]\n"
     ]
    }
   ],
   "source": [
    "os.environ['CUDA_VISIBLE_DEVICES'] ='0'\n",
    "network.resume(savedir=\"./save_model\")"
   ]
  },
  {
   "cell_type": "code",
   "execution_count": 7,
   "metadata": {},
   "outputs": [
    {
     "name": "stdout",
     "output_type": "stream",
     "text": [
      "INFO:tensorflow:Restoring parameters from ./save_model\\model\n"
     ]
    },
    {
     "ename": "NotFoundError",
     "evalue": "Key Conv_100/biases not found in checkpoint\n\t [[Node: save/RestoreV2 = RestoreV2[dtypes=[DT_FLOAT, DT_FLOAT, DT_FLOAT, DT_FLOAT, DT_FLOAT, ..., DT_FLOAT, DT_FLOAT, DT_FLOAT, DT_FLOAT, DT_FLOAT], _device=\"/job:localhost/replica:0/task:0/device:CPU:0\"](_arg_save/Const_0_0, save/RestoreV2/tensor_names, save/RestoreV2/shape_and_slices)]]\n\t [[Node: save/RestoreV2/_79 = _Recv[client_terminated=false, recv_device=\"/job:localhost/replica:0/task:0/device:GPU:0\", send_device=\"/job:localhost/replica:0/task:0/device:CPU:0\", send_device_incarnation=1, tensor_name=\"edge_84_save/RestoreV2\", tensor_type=DT_FLOAT, _device=\"/job:localhost/replica:0/task:0/device:GPU:0\"]()]]\n\nCaused by op 'save/RestoreV2', defined at:\n  File \"D:\\ProgramData\\Anaconda3\\lib\\runpy.py\", line 193, in _run_module_as_main\n    \"__main__\", mod_spec)\n  File \"D:\\ProgramData\\Anaconda3\\lib\\runpy.py\", line 85, in _run_code\n    exec(code, run_globals)\n  File \"D:\\ProgramData\\Anaconda3\\lib\\site-packages\\ipykernel_launcher.py\", line 16, in <module>\n    app.launch_new_instance()\n  File \"D:\\ProgramData\\Anaconda3\\lib\\site-packages\\traitlets\\config\\application.py\", line 658, in launch_instance\n    app.start()\n  File \"D:\\ProgramData\\Anaconda3\\lib\\site-packages\\ipykernel\\kernelapp.py\", line 477, in start\n    ioloop.IOLoop.instance().start()\n  File \"D:\\ProgramData\\Anaconda3\\lib\\site-packages\\zmq\\eventloop\\ioloop.py\", line 177, in start\n    super(ZMQIOLoop, self).start()\n  File \"D:\\ProgramData\\Anaconda3\\lib\\site-packages\\tornado\\ioloop.py\", line 888, in start\n    handler_func(fd_obj, events)\n  File \"D:\\ProgramData\\Anaconda3\\lib\\site-packages\\tornado\\stack_context.py\", line 277, in null_wrapper\n    return fn(*args, **kwargs)\n  File \"D:\\ProgramData\\Anaconda3\\lib\\site-packages\\zmq\\eventloop\\zmqstream.py\", line 440, in _handle_events\n    self._handle_recv()\n  File \"D:\\ProgramData\\Anaconda3\\lib\\site-packages\\zmq\\eventloop\\zmqstream.py\", line 472, in _handle_recv\n    self._run_callback(callback, msg)\n  File \"D:\\ProgramData\\Anaconda3\\lib\\site-packages\\zmq\\eventloop\\zmqstream.py\", line 414, in _run_callback\n    callback(*args, **kwargs)\n  File \"D:\\ProgramData\\Anaconda3\\lib\\site-packages\\tornado\\stack_context.py\", line 277, in null_wrapper\n    return fn(*args, **kwargs)\n  File \"D:\\ProgramData\\Anaconda3\\lib\\site-packages\\ipykernel\\kernelbase.py\", line 283, in dispatcher\n    return self.dispatch_shell(stream, msg)\n  File \"D:\\ProgramData\\Anaconda3\\lib\\site-packages\\ipykernel\\kernelbase.py\", line 235, in dispatch_shell\n    handler(stream, idents, msg)\n  File \"D:\\ProgramData\\Anaconda3\\lib\\site-packages\\ipykernel\\kernelbase.py\", line 399, in execute_request\n    user_expressions, allow_stdin)\n  File \"D:\\ProgramData\\Anaconda3\\lib\\site-packages\\ipykernel\\ipkernel.py\", line 196, in do_execute\n    res = shell.run_cell(code, store_history=store_history, silent=silent)\n  File \"D:\\ProgramData\\Anaconda3\\lib\\site-packages\\ipykernel\\zmqshell.py\", line 533, in run_cell\n    return super(ZMQInteractiveShell, self).run_cell(*args, **kwargs)\n  File \"D:\\ProgramData\\Anaconda3\\lib\\site-packages\\IPython\\core\\interactiveshell.py\", line 2717, in run_cell\n    interactivity=interactivity, compiler=compiler, result=result)\n  File \"D:\\ProgramData\\Anaconda3\\lib\\site-packages\\IPython\\core\\interactiveshell.py\", line 2821, in run_ast_nodes\n    if self.run_code(code, result):\n  File \"D:\\ProgramData\\Anaconda3\\lib\\site-packages\\IPython\\core\\interactiveshell.py\", line 2881, in run_code\n    exec(code_obj, self.user_global_ns, self.user_ns)\n  File \"<ipython-input-2-c6c3b416da83>\", line 1, in <module>\n    network=ResGUN(50,16,64,2)\n  File \"D:\\LAB\\master_thesis\\ResGUN-Tensorflow\\model\\ResGun_2x.py\", line 78, in __init__\n    self.saver = tf.train.Saver()\n  File \"D:\\ProgramData\\Anaconda3\\lib\\site-packages\\tensorflow\\python\\training\\saver.py\", line 1293, in __init__\n    self.build()\n  File \"D:\\ProgramData\\Anaconda3\\lib\\site-packages\\tensorflow\\python\\training\\saver.py\", line 1302, in build\n    self._build(self._filename, build_save=True, build_restore=True)\n  File \"D:\\ProgramData\\Anaconda3\\lib\\site-packages\\tensorflow\\python\\training\\saver.py\", line 1339, in _build\n    build_save=build_save, build_restore=build_restore)\n  File \"D:\\ProgramData\\Anaconda3\\lib\\site-packages\\tensorflow\\python\\training\\saver.py\", line 796, in _build_internal\n    restore_sequentially, reshape)\n  File \"D:\\ProgramData\\Anaconda3\\lib\\site-packages\\tensorflow\\python\\training\\saver.py\", line 449, in _AddRestoreOps\n    restore_sequentially)\n  File \"D:\\ProgramData\\Anaconda3\\lib\\site-packages\\tensorflow\\python\\training\\saver.py\", line 847, in bulk_restore\n    return io_ops.restore_v2(filename_tensor, names, slices, dtypes)\n  File \"D:\\ProgramData\\Anaconda3\\lib\\site-packages\\tensorflow\\python\\ops\\gen_io_ops.py\", line 1113, in restore_v2\n    shape_and_slices=shape_and_slices, dtypes=dtypes, name=name)\n  File \"D:\\ProgramData\\Anaconda3\\lib\\site-packages\\tensorflow\\python\\framework\\op_def_library.py\", line 787, in _apply_op_helper\n    op_def=op_def)\n  File \"D:\\ProgramData\\Anaconda3\\lib\\site-packages\\tensorflow\\python\\framework\\ops.py\", line 3271, in create_op\n    op_def=op_def)\n  File \"D:\\ProgramData\\Anaconda3\\lib\\site-packages\\tensorflow\\python\\framework\\ops.py\", line 1650, in __init__\n    self._traceback = self._graph._extract_stack()  # pylint: disable=protected-access\n\nNotFoundError (see above for traceback): Key Conv_100/biases not found in checkpoint\n\t [[Node: save/RestoreV2 = RestoreV2[dtypes=[DT_FLOAT, DT_FLOAT, DT_FLOAT, DT_FLOAT, DT_FLOAT, ..., DT_FLOAT, DT_FLOAT, DT_FLOAT, DT_FLOAT, DT_FLOAT], _device=\"/job:localhost/replica:0/task:0/device:CPU:0\"](_arg_save/Const_0_0, save/RestoreV2/tensor_names, save/RestoreV2/shape_and_slices)]]\n\t [[Node: save/RestoreV2/_79 = _Recv[client_terminated=false, recv_device=\"/job:localhost/replica:0/task:0/device:GPU:0\", send_device=\"/job:localhost/replica:0/task:0/device:CPU:0\", send_device_incarnation=1, tensor_name=\"edge_84_save/RestoreV2\", tensor_type=DT_FLOAT, _device=\"/job:localhost/replica:0/task:0/device:GPU:0\"]()]]\n",
     "output_type": "error",
     "traceback": [
      "\u001b[1;31m---------------------------------------------------------------------------\u001b[0m",
      "\u001b[1;31mNotFoundError\u001b[0m                             Traceback (most recent call last)",
      "\u001b[1;32mD:\\ProgramData\\Anaconda3\\lib\\site-packages\\tensorflow\\python\\client\\session.py\u001b[0m in \u001b[0;36m_do_call\u001b[1;34m(self, fn, *args)\u001b[0m\n\u001b[0;32m   1360\u001b[0m     \u001b[1;32mtry\u001b[0m\u001b[1;33m:\u001b[0m\u001b[1;33m\u001b[0m\u001b[0m\n\u001b[1;32m-> 1361\u001b[1;33m       \u001b[1;32mreturn\u001b[0m \u001b[0mfn\u001b[0m\u001b[1;33m(\u001b[0m\u001b[1;33m*\u001b[0m\u001b[0margs\u001b[0m\u001b[1;33m)\u001b[0m\u001b[1;33m\u001b[0m\u001b[0m\n\u001b[0m\u001b[0;32m   1362\u001b[0m     \u001b[1;32mexcept\u001b[0m \u001b[0merrors\u001b[0m\u001b[1;33m.\u001b[0m\u001b[0mOpError\u001b[0m \u001b[1;32mas\u001b[0m \u001b[0me\u001b[0m\u001b[1;33m:\u001b[0m\u001b[1;33m\u001b[0m\u001b[0m\n",
      "\u001b[1;32mD:\\ProgramData\\Anaconda3\\lib\\site-packages\\tensorflow\\python\\client\\session.py\u001b[0m in \u001b[0;36m_run_fn\u001b[1;34m(session, feed_dict, fetch_list, target_list, options, run_metadata)\u001b[0m\n\u001b[0;32m   1339\u001b[0m           return tf_session.TF_Run(session, options, feed_dict, fetch_list,\n\u001b[1;32m-> 1340\u001b[1;33m                                    target_list, status, run_metadata)\n\u001b[0m\u001b[0;32m   1341\u001b[0m \u001b[1;33m\u001b[0m\u001b[0m\n",
      "\u001b[1;32mD:\\ProgramData\\Anaconda3\\lib\\site-packages\\tensorflow\\python\\framework\\errors_impl.py\u001b[0m in \u001b[0;36m__exit__\u001b[1;34m(self, type_arg, value_arg, traceback_arg)\u001b[0m\n\u001b[0;32m    515\u001b[0m             \u001b[0mcompat\u001b[0m\u001b[1;33m.\u001b[0m\u001b[0mas_text\u001b[0m\u001b[1;33m(\u001b[0m\u001b[0mc_api\u001b[0m\u001b[1;33m.\u001b[0m\u001b[0mTF_Message\u001b[0m\u001b[1;33m(\u001b[0m\u001b[0mself\u001b[0m\u001b[1;33m.\u001b[0m\u001b[0mstatus\u001b[0m\u001b[1;33m.\u001b[0m\u001b[0mstatus\u001b[0m\u001b[1;33m)\u001b[0m\u001b[1;33m)\u001b[0m\u001b[1;33m,\u001b[0m\u001b[1;33m\u001b[0m\u001b[0m\n\u001b[1;32m--> 516\u001b[1;33m             c_api.TF_GetCode(self.status.status))\n\u001b[0m\u001b[0;32m    517\u001b[0m     \u001b[1;31m# Delete the underlying status object from memory otherwise it stays alive\u001b[0m\u001b[1;33m\u001b[0m\u001b[1;33m\u001b[0m\u001b[0m\n",
      "\u001b[1;31mNotFoundError\u001b[0m: Key Conv_100/biases not found in checkpoint\n\t [[Node: save/RestoreV2 = RestoreV2[dtypes=[DT_FLOAT, DT_FLOAT, DT_FLOAT, DT_FLOAT, DT_FLOAT, ..., DT_FLOAT, DT_FLOAT, DT_FLOAT, DT_FLOAT, DT_FLOAT], _device=\"/job:localhost/replica:0/task:0/device:CPU:0\"](_arg_save/Const_0_0, save/RestoreV2/tensor_names, save/RestoreV2/shape_and_slices)]]\n\t [[Node: save/RestoreV2/_79 = _Recv[client_terminated=false, recv_device=\"/job:localhost/replica:0/task:0/device:GPU:0\", send_device=\"/job:localhost/replica:0/task:0/device:CPU:0\", send_device_incarnation=1, tensor_name=\"edge_84_save/RestoreV2\", tensor_type=DT_FLOAT, _device=\"/job:localhost/replica:0/task:0/device:GPU:0\"]()]]",
      "\nDuring handling of the above exception, another exception occurred:\n",
      "\u001b[1;31mNotFoundError\u001b[0m                             Traceback (most recent call last)",
      "\u001b[1;32m<ipython-input-7-c5774d3e8cc7>\u001b[0m in \u001b[0;36m<module>\u001b[1;34m()\u001b[0m\n\u001b[0;32m      1\u001b[0m \u001b[0msess\u001b[0m \u001b[1;33m=\u001b[0m \u001b[0mtf\u001b[0m\u001b[1;33m.\u001b[0m\u001b[0mSession\u001b[0m\u001b[1;33m(\u001b[0m\u001b[1;33m)\u001b[0m\u001b[1;33m\u001b[0m\u001b[0m\n\u001b[0;32m      2\u001b[0m \u001b[0msaver\u001b[0m \u001b[1;33m=\u001b[0m \u001b[0mtf\u001b[0m\u001b[1;33m.\u001b[0m\u001b[0mtrain\u001b[0m\u001b[1;33m.\u001b[0m\u001b[0mimport_meta_graph\u001b[0m\u001b[1;33m(\u001b[0m\u001b[1;34m'./save_model/model.meta'\u001b[0m\u001b[1;33m)\u001b[0m\u001b[1;33m\u001b[0m\u001b[0m\n\u001b[1;32m----> 3\u001b[1;33m \u001b[0msaver\u001b[0m\u001b[1;33m.\u001b[0m\u001b[0mrestore\u001b[0m\u001b[1;33m(\u001b[0m\u001b[0msess\u001b[0m\u001b[1;33m,\u001b[0m \u001b[0mtf\u001b[0m\u001b[1;33m.\u001b[0m\u001b[0mtrain\u001b[0m\u001b[1;33m.\u001b[0m\u001b[0mlatest_checkpoint\u001b[0m\u001b[1;33m(\u001b[0m\u001b[1;34m'./save_model'\u001b[0m\u001b[1;33m)\u001b[0m\u001b[1;33m)\u001b[0m\u001b[1;33m\u001b[0m\u001b[0m\n\u001b[0m",
      "\u001b[1;32mD:\\ProgramData\\Anaconda3\\lib\\site-packages\\tensorflow\\python\\training\\saver.py\u001b[0m in \u001b[0;36mrestore\u001b[1;34m(self, sess, save_path)\u001b[0m\n\u001b[0;32m   1753\u001b[0m     \u001b[1;32mif\u001b[0m \u001b[0mcontext\u001b[0m\u001b[1;33m.\u001b[0m\u001b[0min_graph_mode\u001b[0m\u001b[1;33m(\u001b[0m\u001b[1;33m)\u001b[0m\u001b[1;33m:\u001b[0m\u001b[1;33m\u001b[0m\u001b[0m\n\u001b[0;32m   1754\u001b[0m       sess.run(self.saver_def.restore_op_name,\n\u001b[1;32m-> 1755\u001b[1;33m                {self.saver_def.filename_tensor_name: save_path})\n\u001b[0m\u001b[0;32m   1756\u001b[0m     \u001b[1;32melse\u001b[0m\u001b[1;33m:\u001b[0m\u001b[1;33m\u001b[0m\u001b[0m\n\u001b[0;32m   1757\u001b[0m       \u001b[0mself\u001b[0m\u001b[1;33m.\u001b[0m\u001b[0m_build_eager\u001b[0m\u001b[1;33m(\u001b[0m\u001b[0msave_path\u001b[0m\u001b[1;33m,\u001b[0m \u001b[0mbuild_save\u001b[0m\u001b[1;33m=\u001b[0m\u001b[1;32mFalse\u001b[0m\u001b[1;33m,\u001b[0m \u001b[0mbuild_restore\u001b[0m\u001b[1;33m=\u001b[0m\u001b[1;32mTrue\u001b[0m\u001b[1;33m)\u001b[0m\u001b[1;33m\u001b[0m\u001b[0m\n",
      "\u001b[1;32mD:\\ProgramData\\Anaconda3\\lib\\site-packages\\tensorflow\\python\\client\\session.py\u001b[0m in \u001b[0;36mrun\u001b[1;34m(self, fetches, feed_dict, options, run_metadata)\u001b[0m\n\u001b[0;32m    903\u001b[0m     \u001b[1;32mtry\u001b[0m\u001b[1;33m:\u001b[0m\u001b[1;33m\u001b[0m\u001b[0m\n\u001b[0;32m    904\u001b[0m       result = self._run(None, fetches, feed_dict, options_ptr,\n\u001b[1;32m--> 905\u001b[1;33m                          run_metadata_ptr)\n\u001b[0m\u001b[0;32m    906\u001b[0m       \u001b[1;32mif\u001b[0m \u001b[0mrun_metadata\u001b[0m\u001b[1;33m:\u001b[0m\u001b[1;33m\u001b[0m\u001b[0m\n\u001b[0;32m    907\u001b[0m         \u001b[0mproto_data\u001b[0m \u001b[1;33m=\u001b[0m \u001b[0mtf_session\u001b[0m\u001b[1;33m.\u001b[0m\u001b[0mTF_GetBuffer\u001b[0m\u001b[1;33m(\u001b[0m\u001b[0mrun_metadata_ptr\u001b[0m\u001b[1;33m)\u001b[0m\u001b[1;33m\u001b[0m\u001b[0m\n",
      "\u001b[1;32mD:\\ProgramData\\Anaconda3\\lib\\site-packages\\tensorflow\\python\\client\\session.py\u001b[0m in \u001b[0;36m_run\u001b[1;34m(self, handle, fetches, feed_dict, options, run_metadata)\u001b[0m\n\u001b[0;32m   1135\u001b[0m     \u001b[1;32mif\u001b[0m \u001b[0mfinal_fetches\u001b[0m \u001b[1;32mor\u001b[0m \u001b[0mfinal_targets\u001b[0m \u001b[1;32mor\u001b[0m \u001b[1;33m(\u001b[0m\u001b[0mhandle\u001b[0m \u001b[1;32mand\u001b[0m \u001b[0mfeed_dict_tensor\u001b[0m\u001b[1;33m)\u001b[0m\u001b[1;33m:\u001b[0m\u001b[1;33m\u001b[0m\u001b[0m\n\u001b[0;32m   1136\u001b[0m       results = self._do_run(handle, final_targets, final_fetches,\n\u001b[1;32m-> 1137\u001b[1;33m                              feed_dict_tensor, options, run_metadata)\n\u001b[0m\u001b[0;32m   1138\u001b[0m     \u001b[1;32melse\u001b[0m\u001b[1;33m:\u001b[0m\u001b[1;33m\u001b[0m\u001b[0m\n\u001b[0;32m   1139\u001b[0m       \u001b[0mresults\u001b[0m \u001b[1;33m=\u001b[0m \u001b[1;33m[\u001b[0m\u001b[1;33m]\u001b[0m\u001b[1;33m\u001b[0m\u001b[0m\n",
      "\u001b[1;32mD:\\ProgramData\\Anaconda3\\lib\\site-packages\\tensorflow\\python\\client\\session.py\u001b[0m in \u001b[0;36m_do_run\u001b[1;34m(self, handle, target_list, fetch_list, feed_dict, options, run_metadata)\u001b[0m\n\u001b[0;32m   1353\u001b[0m     \u001b[1;32mif\u001b[0m \u001b[0mhandle\u001b[0m \u001b[1;32mis\u001b[0m \u001b[1;32mNone\u001b[0m\u001b[1;33m:\u001b[0m\u001b[1;33m\u001b[0m\u001b[0m\n\u001b[0;32m   1354\u001b[0m       return self._do_call(_run_fn, self._session, feeds, fetches, targets,\n\u001b[1;32m-> 1355\u001b[1;33m                            options, run_metadata)\n\u001b[0m\u001b[0;32m   1356\u001b[0m     \u001b[1;32melse\u001b[0m\u001b[1;33m:\u001b[0m\u001b[1;33m\u001b[0m\u001b[0m\n\u001b[0;32m   1357\u001b[0m       \u001b[1;32mreturn\u001b[0m \u001b[0mself\u001b[0m\u001b[1;33m.\u001b[0m\u001b[0m_do_call\u001b[0m\u001b[1;33m(\u001b[0m\u001b[0m_prun_fn\u001b[0m\u001b[1;33m,\u001b[0m \u001b[0mself\u001b[0m\u001b[1;33m.\u001b[0m\u001b[0m_session\u001b[0m\u001b[1;33m,\u001b[0m \u001b[0mhandle\u001b[0m\u001b[1;33m,\u001b[0m \u001b[0mfeeds\u001b[0m\u001b[1;33m,\u001b[0m \u001b[0mfetches\u001b[0m\u001b[1;33m)\u001b[0m\u001b[1;33m\u001b[0m\u001b[0m\n",
      "\u001b[1;32mD:\\ProgramData\\Anaconda3\\lib\\site-packages\\tensorflow\\python\\client\\session.py\u001b[0m in \u001b[0;36m_do_call\u001b[1;34m(self, fn, *args)\u001b[0m\n\u001b[0;32m   1372\u001b[0m         \u001b[1;32mexcept\u001b[0m \u001b[0mKeyError\u001b[0m\u001b[1;33m:\u001b[0m\u001b[1;33m\u001b[0m\u001b[0m\n\u001b[0;32m   1373\u001b[0m           \u001b[1;32mpass\u001b[0m\u001b[1;33m\u001b[0m\u001b[0m\n\u001b[1;32m-> 1374\u001b[1;33m       \u001b[1;32mraise\u001b[0m \u001b[0mtype\u001b[0m\u001b[1;33m(\u001b[0m\u001b[0me\u001b[0m\u001b[1;33m)\u001b[0m\u001b[1;33m(\u001b[0m\u001b[0mnode_def\u001b[0m\u001b[1;33m,\u001b[0m \u001b[0mop\u001b[0m\u001b[1;33m,\u001b[0m \u001b[0mmessage\u001b[0m\u001b[1;33m)\u001b[0m\u001b[1;33m\u001b[0m\u001b[0m\n\u001b[0m\u001b[0;32m   1375\u001b[0m \u001b[1;33m\u001b[0m\u001b[0m\n\u001b[0;32m   1376\u001b[0m   \u001b[1;32mdef\u001b[0m \u001b[0m_extend_graph\u001b[0m\u001b[1;33m(\u001b[0m\u001b[0mself\u001b[0m\u001b[1;33m)\u001b[0m\u001b[1;33m:\u001b[0m\u001b[1;33m\u001b[0m\u001b[0m\n",
      "\u001b[1;31mNotFoundError\u001b[0m: Key Conv_100/biases not found in checkpoint\n\t [[Node: save/RestoreV2 = RestoreV2[dtypes=[DT_FLOAT, DT_FLOAT, DT_FLOAT, DT_FLOAT, DT_FLOAT, ..., DT_FLOAT, DT_FLOAT, DT_FLOAT, DT_FLOAT, DT_FLOAT], _device=\"/job:localhost/replica:0/task:0/device:CPU:0\"](_arg_save/Const_0_0, save/RestoreV2/tensor_names, save/RestoreV2/shape_and_slices)]]\n\t [[Node: save/RestoreV2/_79 = _Recv[client_terminated=false, recv_device=\"/job:localhost/replica:0/task:0/device:GPU:0\", send_device=\"/job:localhost/replica:0/task:0/device:CPU:0\", send_device_incarnation=1, tensor_name=\"edge_84_save/RestoreV2\", tensor_type=DT_FLOAT, _device=\"/job:localhost/replica:0/task:0/device:GPU:0\"]()]]\n\nCaused by op 'save/RestoreV2', defined at:\n  File \"D:\\ProgramData\\Anaconda3\\lib\\runpy.py\", line 193, in _run_module_as_main\n    \"__main__\", mod_spec)\n  File \"D:\\ProgramData\\Anaconda3\\lib\\runpy.py\", line 85, in _run_code\n    exec(code, run_globals)\n  File \"D:\\ProgramData\\Anaconda3\\lib\\site-packages\\ipykernel_launcher.py\", line 16, in <module>\n    app.launch_new_instance()\n  File \"D:\\ProgramData\\Anaconda3\\lib\\site-packages\\traitlets\\config\\application.py\", line 658, in launch_instance\n    app.start()\n  File \"D:\\ProgramData\\Anaconda3\\lib\\site-packages\\ipykernel\\kernelapp.py\", line 477, in start\n    ioloop.IOLoop.instance().start()\n  File \"D:\\ProgramData\\Anaconda3\\lib\\site-packages\\zmq\\eventloop\\ioloop.py\", line 177, in start\n    super(ZMQIOLoop, self).start()\n  File \"D:\\ProgramData\\Anaconda3\\lib\\site-packages\\tornado\\ioloop.py\", line 888, in start\n    handler_func(fd_obj, events)\n  File \"D:\\ProgramData\\Anaconda3\\lib\\site-packages\\tornado\\stack_context.py\", line 277, in null_wrapper\n    return fn(*args, **kwargs)\n  File \"D:\\ProgramData\\Anaconda3\\lib\\site-packages\\zmq\\eventloop\\zmqstream.py\", line 440, in _handle_events\n    self._handle_recv()\n  File \"D:\\ProgramData\\Anaconda3\\lib\\site-packages\\zmq\\eventloop\\zmqstream.py\", line 472, in _handle_recv\n    self._run_callback(callback, msg)\n  File \"D:\\ProgramData\\Anaconda3\\lib\\site-packages\\zmq\\eventloop\\zmqstream.py\", line 414, in _run_callback\n    callback(*args, **kwargs)\n  File \"D:\\ProgramData\\Anaconda3\\lib\\site-packages\\tornado\\stack_context.py\", line 277, in null_wrapper\n    return fn(*args, **kwargs)\n  File \"D:\\ProgramData\\Anaconda3\\lib\\site-packages\\ipykernel\\kernelbase.py\", line 283, in dispatcher\n    return self.dispatch_shell(stream, msg)\n  File \"D:\\ProgramData\\Anaconda3\\lib\\site-packages\\ipykernel\\kernelbase.py\", line 235, in dispatch_shell\n    handler(stream, idents, msg)\n  File \"D:\\ProgramData\\Anaconda3\\lib\\site-packages\\ipykernel\\kernelbase.py\", line 399, in execute_request\n    user_expressions, allow_stdin)\n  File \"D:\\ProgramData\\Anaconda3\\lib\\site-packages\\ipykernel\\ipkernel.py\", line 196, in do_execute\n    res = shell.run_cell(code, store_history=store_history, silent=silent)\n  File \"D:\\ProgramData\\Anaconda3\\lib\\site-packages\\ipykernel\\zmqshell.py\", line 533, in run_cell\n    return super(ZMQInteractiveShell, self).run_cell(*args, **kwargs)\n  File \"D:\\ProgramData\\Anaconda3\\lib\\site-packages\\IPython\\core\\interactiveshell.py\", line 2717, in run_cell\n    interactivity=interactivity, compiler=compiler, result=result)\n  File \"D:\\ProgramData\\Anaconda3\\lib\\site-packages\\IPython\\core\\interactiveshell.py\", line 2821, in run_ast_nodes\n    if self.run_code(code, result):\n  File \"D:\\ProgramData\\Anaconda3\\lib\\site-packages\\IPython\\core\\interactiveshell.py\", line 2881, in run_code\n    exec(code_obj, self.user_global_ns, self.user_ns)\n  File \"<ipython-input-2-c6c3b416da83>\", line 1, in <module>\n    network=ResGUN(50,16,64,2)\n  File \"D:\\LAB\\master_thesis\\ResGUN-Tensorflow\\model\\ResGun_2x.py\", line 78, in __init__\n    self.saver = tf.train.Saver()\n  File \"D:\\ProgramData\\Anaconda3\\lib\\site-packages\\tensorflow\\python\\training\\saver.py\", line 1293, in __init__\n    self.build()\n  File \"D:\\ProgramData\\Anaconda3\\lib\\site-packages\\tensorflow\\python\\training\\saver.py\", line 1302, in build\n    self._build(self._filename, build_save=True, build_restore=True)\n  File \"D:\\ProgramData\\Anaconda3\\lib\\site-packages\\tensorflow\\python\\training\\saver.py\", line 1339, in _build\n    build_save=build_save, build_restore=build_restore)\n  File \"D:\\ProgramData\\Anaconda3\\lib\\site-packages\\tensorflow\\python\\training\\saver.py\", line 796, in _build_internal\n    restore_sequentially, reshape)\n  File \"D:\\ProgramData\\Anaconda3\\lib\\site-packages\\tensorflow\\python\\training\\saver.py\", line 449, in _AddRestoreOps\n    restore_sequentially)\n  File \"D:\\ProgramData\\Anaconda3\\lib\\site-packages\\tensorflow\\python\\training\\saver.py\", line 847, in bulk_restore\n    return io_ops.restore_v2(filename_tensor, names, slices, dtypes)\n  File \"D:\\ProgramData\\Anaconda3\\lib\\site-packages\\tensorflow\\python\\ops\\gen_io_ops.py\", line 1113, in restore_v2\n    shape_and_slices=shape_and_slices, dtypes=dtypes, name=name)\n  File \"D:\\ProgramData\\Anaconda3\\lib\\site-packages\\tensorflow\\python\\framework\\op_def_library.py\", line 787, in _apply_op_helper\n    op_def=op_def)\n  File \"D:\\ProgramData\\Anaconda3\\lib\\site-packages\\tensorflow\\python\\framework\\ops.py\", line 3271, in create_op\n    op_def=op_def)\n  File \"D:\\ProgramData\\Anaconda3\\lib\\site-packages\\tensorflow\\python\\framework\\ops.py\", line 1650, in __init__\n    self._traceback = self._graph._extract_stack()  # pylint: disable=protected-access\n\nNotFoundError (see above for traceback): Key Conv_100/biases not found in checkpoint\n\t [[Node: save/RestoreV2 = RestoreV2[dtypes=[DT_FLOAT, DT_FLOAT, DT_FLOAT, DT_FLOAT, DT_FLOAT, ..., DT_FLOAT, DT_FLOAT, DT_FLOAT, DT_FLOAT, DT_FLOAT], _device=\"/job:localhost/replica:0/task:0/device:CPU:0\"](_arg_save/Const_0_0, save/RestoreV2/tensor_names, save/RestoreV2/shape_and_slices)]]\n\t [[Node: save/RestoreV2/_79 = _Recv[client_terminated=false, recv_device=\"/job:localhost/replica:0/task:0/device:GPU:0\", send_device=\"/job:localhost/replica:0/task:0/device:CPU:0\", send_device_incarnation=1, tensor_name=\"edge_84_save/RestoreV2\", tensor_type=DT_FLOAT, _device=\"/job:localhost/replica:0/task:0/device:GPU:0\"]()]]\n"
     ]
    }
   ],
   "source": [
    "sess = tf.Session()\n",
    "saver = tf.train.import_meta_graph('./save_model/model.meta')\n",
    "saver.restore(sess, tf.train.latest_checkpoint('./save_model'))"
   ]
  },
  {
   "cell_type": "code",
   "execution_count": 9,
   "metadata": {},
   "outputs": [
    {
     "name": "stdout",
     "output_type": "stream",
     "text": [
      "name = Tensor(\"Conv/weights/read:0\", shape=(3, 3, 3, 64), dtype=float32)\n",
      "name = Tensor(\"Conv/biases/read:0\", shape=(64,), dtype=float32)\n",
      "name = Tensor(\"Conv_1/weights/read:0\", shape=(3, 3, 64, 64), dtype=float32)\n",
      "name = Tensor(\"Conv_1/biases/read:0\", shape=(64,), dtype=float32)\n",
      "name = Tensor(\"Conv_2/weights/read:0\", shape=(3, 3, 64, 64), dtype=float32)\n",
      "name = Tensor(\"Conv_2/biases/read:0\", shape=(64,), dtype=float32)\n",
      "name = Tensor(\"Conv_3/weights/read:0\", shape=(3, 3, 64, 64), dtype=float32)\n",
      "name = Tensor(\"Conv_3/biases/read:0\", shape=(64,), dtype=float32)\n",
      "name = Tensor(\"Conv_4/weights/read:0\", shape=(3, 3, 64, 64), dtype=float32)\n",
      "name = Tensor(\"Conv_4/biases/read:0\", shape=(64,), dtype=float32)\n",
      "name = Tensor(\"Conv_5/weights/read:0\", shape=(3, 3, 64, 64), dtype=float32)\n",
      "name = Tensor(\"Conv_5/biases/read:0\", shape=(64,), dtype=float32)\n",
      "name = Tensor(\"Conv_6/weights/read:0\", shape=(3, 3, 64, 64), dtype=float32)\n",
      "name = Tensor(\"Conv_6/biases/read:0\", shape=(64,), dtype=float32)\n",
      "name = Tensor(\"Conv_7/weights/read:0\", shape=(3, 3, 64, 64), dtype=float32)\n",
      "name = Tensor(\"Conv_7/biases/read:0\", shape=(64,), dtype=float32)\n",
      "name = Tensor(\"Conv_8/weights/read:0\", shape=(3, 3, 64, 64), dtype=float32)\n",
      "name = Tensor(\"Conv_8/biases/read:0\", shape=(64,), dtype=float32)\n",
      "name = Tensor(\"Conv_9/weights/read:0\", shape=(3, 3, 64, 64), dtype=float32)\n",
      "name = Tensor(\"Conv_9/biases/read:0\", shape=(64,), dtype=float32)\n",
      "name = Tensor(\"Conv_10/weights/read:0\", shape=(3, 3, 64, 64), dtype=float32)\n",
      "name = Tensor(\"Conv_10/biases/read:0\", shape=(64,), dtype=float32)\n",
      "name = Tensor(\"Conv_11/weights/read:0\", shape=(3, 3, 64, 64), dtype=float32)\n",
      "name = Tensor(\"Conv_11/biases/read:0\", shape=(64,), dtype=float32)\n",
      "name = Tensor(\"Conv_12/weights/read:0\", shape=(3, 3, 64, 64), dtype=float32)\n",
      "name = Tensor(\"Conv_12/biases/read:0\", shape=(64,), dtype=float32)\n",
      "name = Tensor(\"Conv_13/weights/read:0\", shape=(3, 3, 64, 64), dtype=float32)\n",
      "name = Tensor(\"Conv_13/biases/read:0\", shape=(64,), dtype=float32)\n",
      "name = Tensor(\"Conv_14/weights/read:0\", shape=(3, 3, 64, 64), dtype=float32)\n",
      "name = Tensor(\"Conv_14/biases/read:0\", shape=(64,), dtype=float32)\n",
      "name = Tensor(\"Conv_15/weights/read:0\", shape=(3, 3, 64, 64), dtype=float32)\n",
      "name = Tensor(\"Conv_15/biases/read:0\", shape=(64,), dtype=float32)\n",
      "name = Tensor(\"Conv_16/weights/read:0\", shape=(3, 3, 64, 64), dtype=float32)\n",
      "name = Tensor(\"Conv_16/biases/read:0\", shape=(64,), dtype=float32)\n",
      "name = Tensor(\"Conv_17/weights/read:0\", shape=(3, 3, 64, 64), dtype=float32)\n",
      "name = Tensor(\"Conv_17/biases/read:0\", shape=(64,), dtype=float32)\n",
      "name = Tensor(\"Conv_18/weights/read:0\", shape=(3, 3, 64, 64), dtype=float32)\n",
      "name = Tensor(\"Conv_18/biases/read:0\", shape=(64,), dtype=float32)\n",
      "name = Tensor(\"Conv_19/weights/read:0\", shape=(3, 3, 64, 64), dtype=float32)\n",
      "name = Tensor(\"Conv_19/biases/read:0\", shape=(64,), dtype=float32)\n",
      "name = Tensor(\"Conv_20/weights/read:0\", shape=(3, 3, 64, 64), dtype=float32)\n",
      "name = Tensor(\"Conv_20/biases/read:0\", shape=(64,), dtype=float32)\n",
      "name = Tensor(\"Conv_21/weights/read:0\", shape=(3, 3, 64, 64), dtype=float32)\n",
      "name = Tensor(\"Conv_21/biases/read:0\", shape=(64,), dtype=float32)\n",
      "name = Tensor(\"Conv_22/weights/read:0\", shape=(3, 3, 64, 64), dtype=float32)\n",
      "name = Tensor(\"Conv_22/biases/read:0\", shape=(64,), dtype=float32)\n",
      "name = Tensor(\"Conv_23/weights/read:0\", shape=(3, 3, 64, 64), dtype=float32)\n",
      "name = Tensor(\"Conv_23/biases/read:0\", shape=(64,), dtype=float32)\n",
      "name = Tensor(\"Conv_24/weights/read:0\", shape=(3, 3, 64, 64), dtype=float32)\n",
      "name = Tensor(\"Conv_24/biases/read:0\", shape=(64,), dtype=float32)\n",
      "name = Tensor(\"Conv_25/weights/read:0\", shape=(3, 3, 64, 64), dtype=float32)\n",
      "name = Tensor(\"Conv_25/biases/read:0\", shape=(64,), dtype=float32)\n",
      "name = Tensor(\"Conv_26/weights/read:0\", shape=(3, 3, 64, 64), dtype=float32)\n",
      "name = Tensor(\"Conv_26/biases/read:0\", shape=(64,), dtype=float32)\n",
      "name = Tensor(\"Conv_27/weights/read:0\", shape=(3, 3, 64, 64), dtype=float32)\n",
      "name = Tensor(\"Conv_27/biases/read:0\", shape=(64,), dtype=float32)\n",
      "name = Tensor(\"Conv_28/weights/read:0\", shape=(3, 3, 64, 64), dtype=float32)\n",
      "name = Tensor(\"Conv_28/biases/read:0\", shape=(64,), dtype=float32)\n",
      "name = Tensor(\"Conv_29/weights/read:0\", shape=(3, 3, 64, 64), dtype=float32)\n",
      "name = Tensor(\"Conv_29/biases/read:0\", shape=(64,), dtype=float32)\n",
      "name = Tensor(\"Conv_30/weights/read:0\", shape=(3, 3, 64, 64), dtype=float32)\n",
      "name = Tensor(\"Conv_30/biases/read:0\", shape=(64,), dtype=float32)\n",
      "name = Tensor(\"Conv_31/weights/read:0\", shape=(3, 3, 64, 64), dtype=float32)\n",
      "name = Tensor(\"Conv_31/biases/read:0\", shape=(64,), dtype=float32)\n",
      "name = Tensor(\"Conv_32/weights/read:0\", shape=(3, 3, 64, 64), dtype=float32)\n",
      "name = Tensor(\"Conv_32/biases/read:0\", shape=(64,), dtype=float32)\n",
      "name = Tensor(\"conv2d_transpose/kernel/read:0\", shape=(11, 11, 64, 64), dtype=float32)\n",
      "name = Tensor(\"conv2d_transpose/bias/read:0\", shape=(64,), dtype=float32)\n",
      "name = Tensor(\"Conv_33/weights/read:0\", shape=(3, 3, 64, 64), dtype=float32)\n",
      "name = Tensor(\"Conv_33/biases/read:0\", shape=(64,), dtype=float32)\n",
      "name = Tensor(\"Conv_34/weights/read:0\", shape=(3, 3, 64, 64), dtype=float32)\n",
      "name = Tensor(\"Conv_34/biases/read:0\", shape=(64,), dtype=float32)\n",
      "name = Tensor(\"Conv_35/weights/read:0\", shape=(3, 3, 64, 64), dtype=float32)\n",
      "name = Tensor(\"Conv_35/biases/read:0\", shape=(64,), dtype=float32)\n",
      "name = Tensor(\"Conv_36/weights/read:0\", shape=(3, 3, 64, 64), dtype=float32)\n",
      "name = Tensor(\"Conv_36/biases/read:0\", shape=(64,), dtype=float32)\n",
      "name = Tensor(\"Conv_37/weights/read:0\", shape=(3, 3, 64, 64), dtype=float32)\n",
      "name = Tensor(\"Conv_37/biases/read:0\", shape=(64,), dtype=float32)\n",
      "name = Tensor(\"Conv_38/weights/read:0\", shape=(3, 3, 64, 64), dtype=float32)\n",
      "name = Tensor(\"Conv_38/biases/read:0\", shape=(64,), dtype=float32)\n",
      "name = Tensor(\"Conv_39/weights/read:0\", shape=(3, 3, 64, 64), dtype=float32)\n",
      "name = Tensor(\"Conv_39/biases/read:0\", shape=(64,), dtype=float32)\n",
      "name = Tensor(\"Conv_40/weights/read:0\", shape=(3, 3, 64, 64), dtype=float32)\n",
      "name = Tensor(\"Conv_40/biases/read:0\", shape=(64,), dtype=float32)\n",
      "name = Tensor(\"Conv_41/weights/read:0\", shape=(3, 3, 64, 64), dtype=float32)\n",
      "name = Tensor(\"Conv_41/biases/read:0\", shape=(64,), dtype=float32)\n",
      "name = Tensor(\"Conv_42/weights/read:0\", shape=(3, 3, 64, 64), dtype=float32)\n",
      "name = Tensor(\"Conv_42/biases/read:0\", shape=(64,), dtype=float32)\n",
      "name = Tensor(\"Conv_43/weights/read:0\", shape=(3, 3, 64, 64), dtype=float32)\n",
      "name = Tensor(\"Conv_43/biases/read:0\", shape=(64,), dtype=float32)\n",
      "name = Tensor(\"Conv_44/weights/read:0\", shape=(3, 3, 64, 64), dtype=float32)\n",
      "name = Tensor(\"Conv_44/biases/read:0\", shape=(64,), dtype=float32)\n",
      "name = Tensor(\"Conv_45/weights/read:0\", shape=(3, 3, 64, 64), dtype=float32)\n",
      "name = Tensor(\"Conv_45/biases/read:0\", shape=(64,), dtype=float32)\n",
      "name = Tensor(\"Conv_46/weights/read:0\", shape=(3, 3, 64, 64), dtype=float32)\n",
      "name = Tensor(\"Conv_46/biases/read:0\", shape=(64,), dtype=float32)\n",
      "name = Tensor(\"Conv_47/weights/read:0\", shape=(3, 3, 64, 64), dtype=float32)\n",
      "name = Tensor(\"Conv_47/biases/read:0\", shape=(64,), dtype=float32)\n",
      "name = Tensor(\"Conv_48/weights/read:0\", shape=(3, 3, 64, 64), dtype=float32)\n",
      "name = Tensor(\"Conv_48/biases/read:0\", shape=(64,), dtype=float32)\n",
      "name = Tensor(\"Conv_49/weights/read:0\", shape=(3, 3, 64, 64), dtype=float32)\n",
      "name = Tensor(\"Conv_49/biases/read:0\", shape=(64,), dtype=float32)\n",
      "name = Tensor(\"Conv_50/weights/read:0\", shape=(3, 3, 64, 64), dtype=float32)\n",
      "name = Tensor(\"Conv_50/biases/read:0\", shape=(64,), dtype=float32)\n",
      "name = Tensor(\"Conv_51/weights/read:0\", shape=(3, 3, 64, 64), dtype=float32)\n",
      "name = Tensor(\"Conv_51/biases/read:0\", shape=(64,), dtype=float32)\n",
      "name = Tensor(\"Conv_52/weights/read:0\", shape=(3, 3, 64, 64), dtype=float32)\n",
      "name = Tensor(\"Conv_52/biases/read:0\", shape=(64,), dtype=float32)\n",
      "name = Tensor(\"Conv_53/weights/read:0\", shape=(3, 3, 64, 64), dtype=float32)\n",
      "name = Tensor(\"Conv_53/biases/read:0\", shape=(64,), dtype=float32)\n",
      "name = Tensor(\"Conv_54/weights/read:0\", shape=(3, 3, 64, 64), dtype=float32)\n",
      "name = Tensor(\"Conv_54/biases/read:0\", shape=(64,), dtype=float32)\n",
      "name = Tensor(\"Conv_55/weights/read:0\", shape=(3, 3, 64, 64), dtype=float32)\n"
     ]
    },
    {
     "name": "stdout",
     "output_type": "stream",
     "text": [
      "name = Tensor(\"Conv_55/biases/read:0\", shape=(64,), dtype=float32)\n",
      "name = Tensor(\"Conv_56/weights/read:0\", shape=(3, 3, 64, 64), dtype=float32)\n",
      "name = Tensor(\"Conv_56/biases/read:0\", shape=(64,), dtype=float32)\n",
      "name = Tensor(\"Conv_57/weights/read:0\", shape=(3, 3, 64, 64), dtype=float32)\n",
      "name = Tensor(\"Conv_57/biases/read:0\", shape=(64,), dtype=float32)\n",
      "name = Tensor(\"Conv_58/weights/read:0\", shape=(3, 3, 64, 64), dtype=float32)\n",
      "name = Tensor(\"Conv_58/biases/read:0\", shape=(64,), dtype=float32)\n",
      "name = Tensor(\"Conv_59/weights/read:0\", shape=(3, 3, 64, 64), dtype=float32)\n",
      "name = Tensor(\"Conv_59/biases/read:0\", shape=(64,), dtype=float32)\n",
      "name = Tensor(\"Conv_60/weights/read:0\", shape=(3, 3, 64, 64), dtype=float32)\n",
      "name = Tensor(\"Conv_60/biases/read:0\", shape=(64,), dtype=float32)\n",
      "name = Tensor(\"Conv_61/weights/read:0\", shape=(3, 3, 64, 64), dtype=float32)\n",
      "name = Tensor(\"Conv_61/biases/read:0\", shape=(64,), dtype=float32)\n",
      "name = Tensor(\"Conv_62/weights/read:0\", shape=(3, 3, 64, 64), dtype=float32)\n",
      "name = Tensor(\"Conv_62/biases/read:0\", shape=(64,), dtype=float32)\n",
      "name = Tensor(\"Conv_63/weights/read:0\", shape=(3, 3, 64, 64), dtype=float32)\n",
      "name = Tensor(\"Conv_63/biases/read:0\", shape=(64,), dtype=float32)\n",
      "name = Tensor(\"Conv_64/weights/read:0\", shape=(3, 3, 64, 64), dtype=float32)\n",
      "name = Tensor(\"Conv_64/biases/read:0\", shape=(64,), dtype=float32)\n",
      "name = Tensor(\"conv2d_transpose_1/kernel/read:0\", shape=(11, 11, 64, 64), dtype=float32)\n",
      "name = Tensor(\"conv2d_transpose_1/bias/read:0\", shape=(64,), dtype=float32)\n",
      "name = Tensor(\"Conv_65/weights/read:0\", shape=(3, 3, 64, 64), dtype=float32)\n",
      "name = Tensor(\"Conv_65/biases/read:0\", shape=(64,), dtype=float32)\n",
      "name = Tensor(\"Conv_66/weights/read:0\", shape=(3, 3, 64, 64), dtype=float32)\n",
      "name = Tensor(\"Conv_66/biases/read:0\", shape=(64,), dtype=float32)\n",
      "name = Tensor(\"Conv_67/weights/read:0\", shape=(3, 3, 64, 64), dtype=float32)\n",
      "name = Tensor(\"Conv_67/biases/read:0\", shape=(64,), dtype=float32)\n",
      "name = Tensor(\"Conv_68/weights/read:0\", shape=(3, 3, 64, 64), dtype=float32)\n",
      "name = Tensor(\"Conv_68/biases/read:0\", shape=(64,), dtype=float32)\n",
      "name = Tensor(\"Conv_69/weights/read:0\", shape=(3, 3, 64, 64), dtype=float32)\n",
      "name = Tensor(\"Conv_69/biases/read:0\", shape=(64,), dtype=float32)\n",
      "name = Tensor(\"Conv_70/weights/read:0\", shape=(3, 3, 64, 64), dtype=float32)\n",
      "name = Tensor(\"Conv_70/biases/read:0\", shape=(64,), dtype=float32)\n",
      "name = Tensor(\"Conv_71/weights/read:0\", shape=(3, 3, 64, 64), dtype=float32)\n",
      "name = Tensor(\"Conv_71/biases/read:0\", shape=(64,), dtype=float32)\n",
      "name = Tensor(\"Conv_72/weights/read:0\", shape=(3, 3, 64, 64), dtype=float32)\n",
      "name = Tensor(\"Conv_72/biases/read:0\", shape=(64,), dtype=float32)\n",
      "name = Tensor(\"Conv_73/weights/read:0\", shape=(3, 3, 64, 64), dtype=float32)\n",
      "name = Tensor(\"Conv_73/biases/read:0\", shape=(64,), dtype=float32)\n",
      "name = Tensor(\"Conv_74/weights/read:0\", shape=(3, 3, 64, 64), dtype=float32)\n",
      "name = Tensor(\"Conv_74/biases/read:0\", shape=(64,), dtype=float32)\n",
      "name = Tensor(\"Conv_75/weights/read:0\", shape=(3, 3, 64, 64), dtype=float32)\n",
      "name = Tensor(\"Conv_75/biases/read:0\", shape=(64,), dtype=float32)\n",
      "name = Tensor(\"Conv_76/weights/read:0\", shape=(3, 3, 64, 64), dtype=float32)\n",
      "name = Tensor(\"Conv_76/biases/read:0\", shape=(64,), dtype=float32)\n",
      "name = Tensor(\"Conv_77/weights/read:0\", shape=(3, 3, 64, 64), dtype=float32)\n",
      "name = Tensor(\"Conv_77/biases/read:0\", shape=(64,), dtype=float32)\n",
      "name = Tensor(\"Conv_78/weights/read:0\", shape=(3, 3, 64, 64), dtype=float32)\n",
      "name = Tensor(\"Conv_78/biases/read:0\", shape=(64,), dtype=float32)\n",
      "name = Tensor(\"Conv_79/weights/read:0\", shape=(3, 3, 64, 64), dtype=float32)\n",
      "name = Tensor(\"Conv_79/biases/read:0\", shape=(64,), dtype=float32)\n",
      "name = Tensor(\"Conv_80/weights/read:0\", shape=(3, 3, 64, 64), dtype=float32)\n",
      "name = Tensor(\"Conv_80/biases/read:0\", shape=(64,), dtype=float32)\n",
      "name = Tensor(\"Conv_81/weights/read:0\", shape=(3, 3, 64, 64), dtype=float32)\n",
      "name = Tensor(\"Conv_81/biases/read:0\", shape=(64,), dtype=float32)\n",
      "name = Tensor(\"Conv_82/weights/read:0\", shape=(3, 3, 64, 64), dtype=float32)\n",
      "name = Tensor(\"Conv_82/biases/read:0\", shape=(64,), dtype=float32)\n",
      "name = Tensor(\"Conv_83/weights/read:0\", shape=(3, 3, 64, 64), dtype=float32)\n",
      "name = Tensor(\"Conv_83/biases/read:0\", shape=(64,), dtype=float32)\n",
      "name = Tensor(\"Conv_84/weights/read:0\", shape=(3, 3, 64, 64), dtype=float32)\n",
      "name = Tensor(\"Conv_84/biases/read:0\", shape=(64,), dtype=float32)\n",
      "name = Tensor(\"Conv_85/weights/read:0\", shape=(3, 3, 64, 64), dtype=float32)\n",
      "name = Tensor(\"Conv_85/biases/read:0\", shape=(64,), dtype=float32)\n",
      "name = Tensor(\"Conv_86/weights/read:0\", shape=(3, 3, 64, 64), dtype=float32)\n",
      "name = Tensor(\"Conv_86/biases/read:0\", shape=(64,), dtype=float32)\n",
      "name = Tensor(\"Conv_87/weights/read:0\", shape=(3, 3, 64, 64), dtype=float32)\n",
      "name = Tensor(\"Conv_87/biases/read:0\", shape=(64,), dtype=float32)\n",
      "name = Tensor(\"Conv_88/weights/read:0\", shape=(3, 3, 64, 64), dtype=float32)\n",
      "name = Tensor(\"Conv_88/biases/read:0\", shape=(64,), dtype=float32)\n",
      "name = Tensor(\"Conv_89/weights/read:0\", shape=(3, 3, 64, 64), dtype=float32)\n",
      "name = Tensor(\"Conv_89/biases/read:0\", shape=(64,), dtype=float32)\n",
      "name = Tensor(\"Conv_90/weights/read:0\", shape=(3, 3, 64, 64), dtype=float32)\n",
      "name = Tensor(\"Conv_90/biases/read:0\", shape=(64,), dtype=float32)\n",
      "name = Tensor(\"Conv_91/weights/read:0\", shape=(3, 3, 64, 64), dtype=float32)\n",
      "name = Tensor(\"Conv_91/biases/read:0\", shape=(64,), dtype=float32)\n",
      "name = Tensor(\"Conv_92/weights/read:0\", shape=(3, 3, 64, 64), dtype=float32)\n",
      "name = Tensor(\"Conv_92/biases/read:0\", shape=(64,), dtype=float32)\n",
      "name = Tensor(\"Conv_93/weights/read:0\", shape=(3, 3, 64, 64), dtype=float32)\n",
      "name = Tensor(\"Conv_93/biases/read:0\", shape=(64,), dtype=float32)\n",
      "name = Tensor(\"Conv_94/weights/read:0\", shape=(3, 3, 64, 64), dtype=float32)\n",
      "name = Tensor(\"Conv_94/biases/read:0\", shape=(64,), dtype=float32)\n",
      "name = Tensor(\"Conv_95/weights/read:0\", shape=(3, 3, 64, 64), dtype=float32)\n",
      "name = Tensor(\"Conv_95/biases/read:0\", shape=(64,), dtype=float32)\n",
      "name = Tensor(\"Conv_96/weights/read:0\", shape=(3, 3, 64, 64), dtype=float32)\n",
      "name = Tensor(\"Conv_96/biases/read:0\", shape=(64,), dtype=float32)\n",
      "name = Tensor(\"conv2d_transpose_2/kernel/read:0\", shape=(11, 11, 64, 64), dtype=float32)\n",
      "name = Tensor(\"conv2d_transpose_2/bias/read:0\", shape=(64,), dtype=float32)\n",
      "name = Tensor(\"Conv_97/weights/read:0\", shape=(3, 3, 64, 64), dtype=float32)\n",
      "name = Tensor(\"Conv_97/biases/read:0\", shape=(64,), dtype=float32)\n",
      "name = Tensor(\"Conv_98/weights/read:0\", shape=(3, 3, 64, 64), dtype=float32)\n",
      "name = Tensor(\"Conv_98/biases/read:0\", shape=(64,), dtype=float32)\n",
      "name = Tensor(\"Conv_99/weights/read:0\", shape=(3, 3, 64, 64), dtype=float32)\n",
      "name = Tensor(\"Conv_99/biases/read:0\", shape=(64,), dtype=float32)\n",
      "name = Tensor(\"Conv_100/weights/read:0\", shape=(3, 3, 64, 64), dtype=float32)\n",
      "name = Tensor(\"Conv_100/biases/read:0\", shape=(64,), dtype=float32)\n",
      "name = Tensor(\"Conv_101/weights/read:0\", shape=(3, 3, 64, 64), dtype=float32)\n",
      "name = Tensor(\"Conv_101/biases/read:0\", shape=(64,), dtype=float32)\n",
      "name = Tensor(\"Conv_102/weights/read:0\", shape=(3, 3, 64, 64), dtype=float32)\n",
      "name = Tensor(\"Conv_102/biases/read:0\", shape=(64,), dtype=float32)\n",
      "name = Tensor(\"Conv_103/weights/read:0\", shape=(3, 3, 64, 64), dtype=float32)\n",
      "name = Tensor(\"Conv_103/biases/read:0\", shape=(64,), dtype=float32)\n",
      "name = Tensor(\"Conv_104/weights/read:0\", shape=(3, 3, 64, 64), dtype=float32)\n",
      "name = Tensor(\"Conv_104/biases/read:0\", shape=(64,), dtype=float32)\n",
      "name = Tensor(\"Conv_105/weights/read:0\", shape=(3, 3, 64, 64), dtype=float32)\n",
      "name = Tensor(\"Conv_105/biases/read:0\", shape=(64,), dtype=float32)\n",
      "name = Tensor(\"Conv_106/weights/read:0\", shape=(3, 3, 64, 64), dtype=float32)\n",
      "name = Tensor(\"Conv_106/biases/read:0\", shape=(64,), dtype=float32)\n",
      "name = Tensor(\"Conv_107/weights/read:0\", shape=(3, 3, 64, 64), dtype=float32)\n",
      "name = Tensor(\"Conv_107/biases/read:0\", shape=(64,), dtype=float32)\n",
      "name = Tensor(\"Conv_108/weights/read:0\", shape=(3, 3, 64, 64), dtype=float32)\n",
      "name = Tensor(\"Conv_108/biases/read:0\", shape=(64,), dtype=float32)\n",
      "name = Tensor(\"Conv_109/weights/read:0\", shape=(3, 3, 64, 64), dtype=float32)\n",
      "name = Tensor(\"Conv_109/biases/read:0\", shape=(64,), dtype=float32)\n"
     ]
    },
    {
     "name": "stdout",
     "output_type": "stream",
     "text": [
      "name = Tensor(\"Conv_110/weights/read:0\", shape=(3, 3, 64, 64), dtype=float32)\n",
      "name = Tensor(\"Conv_110/biases/read:0\", shape=(64,), dtype=float32)\n",
      "name = Tensor(\"Conv_111/weights/read:0\", shape=(3, 3, 64, 64), dtype=float32)\n",
      "name = Tensor(\"Conv_111/biases/read:0\", shape=(64,), dtype=float32)\n",
      "name = Tensor(\"Conv_112/weights/read:0\", shape=(3, 3, 64, 64), dtype=float32)\n",
      "name = Tensor(\"Conv_112/biases/read:0\", shape=(64,), dtype=float32)\n",
      "name = Tensor(\"Conv_113/weights/read:0\", shape=(3, 3, 64, 64), dtype=float32)\n",
      "name = Tensor(\"Conv_113/biases/read:0\", shape=(64,), dtype=float32)\n",
      "name = Tensor(\"Conv_114/weights/read:0\", shape=(3, 3, 64, 64), dtype=float32)\n",
      "name = Tensor(\"Conv_114/biases/read:0\", shape=(64,), dtype=float32)\n",
      "name = Tensor(\"Conv_115/weights/read:0\", shape=(3, 3, 64, 64), dtype=float32)\n",
      "name = Tensor(\"Conv_115/biases/read:0\", shape=(64,), dtype=float32)\n",
      "name = Tensor(\"Conv_116/weights/read:0\", shape=(3, 3, 64, 64), dtype=float32)\n",
      "name = Tensor(\"Conv_116/biases/read:0\", shape=(64,), dtype=float32)\n",
      "name = Tensor(\"Conv_117/weights/read:0\", shape=(3, 3, 64, 64), dtype=float32)\n",
      "name = Tensor(\"Conv_117/biases/read:0\", shape=(64,), dtype=float32)\n",
      "name = Tensor(\"Conv_118/weights/read:0\", shape=(3, 3, 64, 64), dtype=float32)\n",
      "name = Tensor(\"Conv_118/biases/read:0\", shape=(64,), dtype=float32)\n",
      "name = Tensor(\"Conv_119/weights/read:0\", shape=(3, 3, 64, 64), dtype=float32)\n",
      "name = Tensor(\"Conv_119/biases/read:0\", shape=(64,), dtype=float32)\n",
      "name = Tensor(\"Conv_120/weights/read:0\", shape=(3, 3, 64, 64), dtype=float32)\n",
      "name = Tensor(\"Conv_120/biases/read:0\", shape=(64,), dtype=float32)\n",
      "name = Tensor(\"Conv_121/weights/read:0\", shape=(3, 3, 64, 64), dtype=float32)\n",
      "name = Tensor(\"Conv_121/biases/read:0\", shape=(64,), dtype=float32)\n",
      "name = Tensor(\"Conv_122/weights/read:0\", shape=(3, 3, 64, 64), dtype=float32)\n",
      "name = Tensor(\"Conv_122/biases/read:0\", shape=(64,), dtype=float32)\n",
      "name = Tensor(\"Conv_123/weights/read:0\", shape=(3, 3, 64, 64), dtype=float32)\n",
      "name = Tensor(\"Conv_123/biases/read:0\", shape=(64,), dtype=float32)\n",
      "name = Tensor(\"Conv_124/weights/read:0\", shape=(3, 3, 64, 64), dtype=float32)\n",
      "name = Tensor(\"Conv_124/biases/read:0\", shape=(64,), dtype=float32)\n",
      "name = Tensor(\"Conv_125/weights/read:0\", shape=(3, 3, 64, 64), dtype=float32)\n",
      "name = Tensor(\"Conv_125/biases/read:0\", shape=(64,), dtype=float32)\n",
      "name = Tensor(\"Conv_126/weights/read:0\", shape=(3, 3, 64, 64), dtype=float32)\n",
      "name = Tensor(\"Conv_126/biases/read:0\", shape=(64,), dtype=float32)\n",
      "name = Tensor(\"Conv_127/weights/read:0\", shape=(3, 3, 64, 64), dtype=float32)\n",
      "name = Tensor(\"Conv_127/biases/read:0\", shape=(64,), dtype=float32)\n",
      "name = Tensor(\"Conv_128/weights/read:0\", shape=(3, 3, 64, 64), dtype=float32)\n",
      "name = Tensor(\"Conv_128/biases/read:0\", shape=(64,), dtype=float32)\n",
      "name = Tensor(\"conv2d_transpose_3/kernel/read:0\", shape=(11, 11, 64, 64), dtype=float32)\n",
      "name = Tensor(\"conv2d_transpose_3/bias/read:0\", shape=(64,), dtype=float32)\n",
      "name = Tensor(\"Conv_129/weights/read:0\", shape=(3, 3, 64, 64), dtype=float32)\n",
      "name = Tensor(\"Conv_129/biases/read:0\", shape=(64,), dtype=float32)\n",
      "name = Tensor(\"Conv_130/weights/read:0\", shape=(3, 3, 64, 64), dtype=float32)\n",
      "name = Tensor(\"Conv_130/biases/read:0\", shape=(64,), dtype=float32)\n",
      "name = Tensor(\"Conv_131/weights/read:0\", shape=(3, 3, 64, 64), dtype=float32)\n",
      "name = Tensor(\"Conv_131/biases/read:0\", shape=(64,), dtype=float32)\n",
      "name = Tensor(\"Conv_132/weights/read:0\", shape=(3, 3, 64, 64), dtype=float32)\n",
      "name = Tensor(\"Conv_132/biases/read:0\", shape=(64,), dtype=float32)\n",
      "name = Tensor(\"Conv_133/weights/read:0\", shape=(3, 3, 64, 64), dtype=float32)\n",
      "name = Tensor(\"Conv_133/biases/read:0\", shape=(64,), dtype=float32)\n",
      "name = Tensor(\"Conv_134/weights/read:0\", shape=(3, 3, 64, 64), dtype=float32)\n",
      "name = Tensor(\"Conv_134/biases/read:0\", shape=(64,), dtype=float32)\n",
      "name = Tensor(\"Conv_135/weights/read:0\", shape=(3, 3, 64, 64), dtype=float32)\n",
      "name = Tensor(\"Conv_135/biases/read:0\", shape=(64,), dtype=float32)\n",
      "name = Tensor(\"Conv_136/weights/read:0\", shape=(3, 3, 64, 64), dtype=float32)\n",
      "name = Tensor(\"Conv_136/biases/read:0\", shape=(64,), dtype=float32)\n",
      "name = Tensor(\"Conv_137/weights/read:0\", shape=(3, 3, 64, 64), dtype=float32)\n",
      "name = Tensor(\"Conv_137/biases/read:0\", shape=(64,), dtype=float32)\n",
      "name = Tensor(\"Conv_138/weights/read:0\", shape=(3, 3, 64, 64), dtype=float32)\n",
      "name = Tensor(\"Conv_138/biases/read:0\", shape=(64,), dtype=float32)\n",
      "name = Tensor(\"Conv_139/weights/read:0\", shape=(3, 3, 64, 64), dtype=float32)\n",
      "name = Tensor(\"Conv_139/biases/read:0\", shape=(64,), dtype=float32)\n",
      "name = Tensor(\"Conv_140/weights/read:0\", shape=(3, 3, 64, 64), dtype=float32)\n",
      "name = Tensor(\"Conv_140/biases/read:0\", shape=(64,), dtype=float32)\n",
      "name = Tensor(\"Conv_141/weights/read:0\", shape=(3, 3, 64, 64), dtype=float32)\n",
      "name = Tensor(\"Conv_141/biases/read:0\", shape=(64,), dtype=float32)\n",
      "name = Tensor(\"Conv_142/weights/read:0\", shape=(3, 3, 64, 64), dtype=float32)\n",
      "name = Tensor(\"Conv_142/biases/read:0\", shape=(64,), dtype=float32)\n",
      "name = Tensor(\"Conv_143/weights/read:0\", shape=(3, 3, 64, 64), dtype=float32)\n",
      "name = Tensor(\"Conv_143/biases/read:0\", shape=(64,), dtype=float32)\n",
      "name = Tensor(\"Conv_144/weights/read:0\", shape=(3, 3, 64, 64), dtype=float32)\n",
      "name = Tensor(\"Conv_144/biases/read:0\", shape=(64,), dtype=float32)\n",
      "name = Tensor(\"Conv_145/weights/read:0\", shape=(3, 3, 64, 64), dtype=float32)\n",
      "name = Tensor(\"Conv_145/biases/read:0\", shape=(64,), dtype=float32)\n",
      "name = Tensor(\"Conv_146/weights/read:0\", shape=(3, 3, 64, 64), dtype=float32)\n",
      "name = Tensor(\"Conv_146/biases/read:0\", shape=(64,), dtype=float32)\n",
      "name = Tensor(\"Conv_147/weights/read:0\", shape=(3, 3, 64, 64), dtype=float32)\n",
      "name = Tensor(\"Conv_147/biases/read:0\", shape=(64,), dtype=float32)\n",
      "name = Tensor(\"Conv_148/weights/read:0\", shape=(3, 3, 64, 64), dtype=float32)\n",
      "name = Tensor(\"Conv_148/biases/read:0\", shape=(64,), dtype=float32)\n",
      "name = Tensor(\"Conv_149/weights/read:0\", shape=(3, 3, 64, 64), dtype=float32)\n",
      "name = Tensor(\"Conv_149/biases/read:0\", shape=(64,), dtype=float32)\n",
      "name = Tensor(\"Conv_150/weights/read:0\", shape=(3, 3, 64, 64), dtype=float32)\n",
      "name = Tensor(\"Conv_150/biases/read:0\", shape=(64,), dtype=float32)\n",
      "name = Tensor(\"Conv_151/weights/read:0\", shape=(3, 3, 64, 64), dtype=float32)\n",
      "name = Tensor(\"Conv_151/biases/read:0\", shape=(64,), dtype=float32)\n",
      "name = Tensor(\"Conv_152/weights/read:0\", shape=(3, 3, 64, 64), dtype=float32)\n",
      "name = Tensor(\"Conv_152/biases/read:0\", shape=(64,), dtype=float32)\n",
      "name = Tensor(\"Conv_153/weights/read:0\", shape=(3, 3, 64, 64), dtype=float32)\n",
      "name = Tensor(\"Conv_153/biases/read:0\", shape=(64,), dtype=float32)\n",
      "name = Tensor(\"Conv_154/weights/read:0\", shape=(3, 3, 64, 64), dtype=float32)\n",
      "name = Tensor(\"Conv_154/biases/read:0\", shape=(64,), dtype=float32)\n",
      "name = Tensor(\"Conv_155/weights/read:0\", shape=(3, 3, 64, 64), dtype=float32)\n",
      "name = Tensor(\"Conv_155/biases/read:0\", shape=(64,), dtype=float32)\n",
      "name = Tensor(\"Conv_156/weights/read:0\", shape=(3, 3, 64, 64), dtype=float32)\n",
      "name = Tensor(\"Conv_156/biases/read:0\", shape=(64,), dtype=float32)\n",
      "name = Tensor(\"Conv_157/weights/read:0\", shape=(3, 3, 64, 64), dtype=float32)\n",
      "name = Tensor(\"Conv_157/biases/read:0\", shape=(64,), dtype=float32)\n",
      "name = Tensor(\"Conv_158/weights/read:0\", shape=(3, 3, 64, 64), dtype=float32)\n",
      "name = Tensor(\"Conv_158/biases/read:0\", shape=(64,), dtype=float32)\n",
      "name = Tensor(\"Conv_159/weights/read:0\", shape=(3, 3, 64, 64), dtype=float32)\n",
      "name = Tensor(\"Conv_159/biases/read:0\", shape=(64,), dtype=float32)\n",
      "name = Tensor(\"Conv_160/weights/read:0\", shape=(3, 3, 64, 64), dtype=float32)\n",
      "name = Tensor(\"Conv_160/biases/read:0\", shape=(64,), dtype=float32)\n",
      "name = Tensor(\"conv2d_transpose_4/kernel/read:0\", shape=(11, 11, 3, 64), dtype=float32)\n",
      "name = Tensor(\"conv2d_transpose_4/bias/read:0\", shape=(3,), dtype=float32)\n",
      "name = Tensor(\"Conv/weights/read:0\", shape=(3, 3, 3, 64), dtype=float32)\n",
      "name = Tensor(\"Conv/biases/read:0\", shape=(64,), dtype=float32)\n",
      "name = Tensor(\"Conv_1/weights/read:0\", shape=(3, 3, 64, 64), dtype=float32)\n",
      "name = Tensor(\"Conv_1/biases/read:0\", shape=(64,), dtype=float32)\n",
      "name = Tensor(\"Conv_2/weights/read:0\", shape=(3, 3, 64, 64), dtype=float32)\n"
     ]
    },
    {
     "name": "stdout",
     "output_type": "stream",
     "text": [
      "name = Tensor(\"Conv_2/biases/read:0\", shape=(64,), dtype=float32)\n",
      "name = Tensor(\"Conv_3/weights/read:0\", shape=(3, 3, 64, 64), dtype=float32)\n",
      "name = Tensor(\"Conv_3/biases/read:0\", shape=(64,), dtype=float32)\n",
      "name = Tensor(\"Conv_4/weights/read:0\", shape=(3, 3, 64, 64), dtype=float32)\n",
      "name = Tensor(\"Conv_4/biases/read:0\", shape=(64,), dtype=float32)\n",
      "name = Tensor(\"Conv_5/weights/read:0\", shape=(3, 3, 64, 64), dtype=float32)\n",
      "name = Tensor(\"Conv_5/biases/read:0\", shape=(64,), dtype=float32)\n",
      "name = Tensor(\"Conv_6/weights/read:0\", shape=(3, 3, 64, 64), dtype=float32)\n",
      "name = Tensor(\"Conv_6/biases/read:0\", shape=(64,), dtype=float32)\n",
      "name = Tensor(\"Conv_7/weights/read:0\", shape=(3, 3, 64, 64), dtype=float32)\n",
      "name = Tensor(\"Conv_7/biases/read:0\", shape=(64,), dtype=float32)\n",
      "name = Tensor(\"Conv_8/weights/read:0\", shape=(3, 3, 64, 64), dtype=float32)\n",
      "name = Tensor(\"Conv_8/biases/read:0\", shape=(64,), dtype=float32)\n",
      "name = Tensor(\"Conv_9/weights/read:0\", shape=(3, 3, 64, 64), dtype=float32)\n",
      "name = Tensor(\"Conv_9/biases/read:0\", shape=(64,), dtype=float32)\n",
      "name = Tensor(\"Conv_10/weights/read:0\", shape=(3, 3, 64, 64), dtype=float32)\n",
      "name = Tensor(\"Conv_10/biases/read:0\", shape=(64,), dtype=float32)\n",
      "name = Tensor(\"Conv_11/weights/read:0\", shape=(3, 3, 64, 64), dtype=float32)\n",
      "name = Tensor(\"Conv_11/biases/read:0\", shape=(64,), dtype=float32)\n",
      "name = Tensor(\"Conv_12/weights/read:0\", shape=(3, 3, 64, 64), dtype=float32)\n",
      "name = Tensor(\"Conv_12/biases/read:0\", shape=(64,), dtype=float32)\n",
      "name = Tensor(\"Conv_13/weights/read:0\", shape=(3, 3, 64, 64), dtype=float32)\n",
      "name = Tensor(\"Conv_13/biases/read:0\", shape=(64,), dtype=float32)\n",
      "name = Tensor(\"Conv_14/weights/read:0\", shape=(3, 3, 64, 64), dtype=float32)\n",
      "name = Tensor(\"Conv_14/biases/read:0\", shape=(64,), dtype=float32)\n",
      "name = Tensor(\"Conv_15/weights/read:0\", shape=(3, 3, 64, 64), dtype=float32)\n",
      "name = Tensor(\"Conv_15/biases/read:0\", shape=(64,), dtype=float32)\n",
      "name = Tensor(\"Conv_16/weights/read:0\", shape=(3, 3, 64, 64), dtype=float32)\n",
      "name = Tensor(\"Conv_16/biases/read:0\", shape=(64,), dtype=float32)\n",
      "name = Tensor(\"Conv_17/weights/read:0\", shape=(3, 3, 64, 64), dtype=float32)\n",
      "name = Tensor(\"Conv_17/biases/read:0\", shape=(64,), dtype=float32)\n",
      "name = Tensor(\"Conv_18/weights/read:0\", shape=(3, 3, 64, 64), dtype=float32)\n",
      "name = Tensor(\"Conv_18/biases/read:0\", shape=(64,), dtype=float32)\n",
      "name = Tensor(\"Conv_19/weights/read:0\", shape=(3, 3, 64, 64), dtype=float32)\n",
      "name = Tensor(\"Conv_19/biases/read:0\", shape=(64,), dtype=float32)\n",
      "name = Tensor(\"Conv_20/weights/read:0\", shape=(3, 3, 64, 64), dtype=float32)\n",
      "name = Tensor(\"Conv_20/biases/read:0\", shape=(64,), dtype=float32)\n",
      "name = Tensor(\"Conv_21/weights/read:0\", shape=(3, 3, 64, 64), dtype=float32)\n",
      "name = Tensor(\"Conv_21/biases/read:0\", shape=(64,), dtype=float32)\n",
      "name = Tensor(\"Conv_22/weights/read:0\", shape=(3, 3, 64, 64), dtype=float32)\n",
      "name = Tensor(\"Conv_22/biases/read:0\", shape=(64,), dtype=float32)\n",
      "name = Tensor(\"Conv_23/weights/read:0\", shape=(3, 3, 64, 64), dtype=float32)\n",
      "name = Tensor(\"Conv_23/biases/read:0\", shape=(64,), dtype=float32)\n",
      "name = Tensor(\"Conv_24/weights/read:0\", shape=(3, 3, 64, 64), dtype=float32)\n",
      "name = Tensor(\"Conv_24/biases/read:0\", shape=(64,), dtype=float32)\n",
      "name = Tensor(\"Conv_25/weights/read:0\", shape=(3, 3, 64, 64), dtype=float32)\n",
      "name = Tensor(\"Conv_25/biases/read:0\", shape=(64,), dtype=float32)\n",
      "name = Tensor(\"Conv_26/weights/read:0\", shape=(3, 3, 64, 64), dtype=float32)\n",
      "name = Tensor(\"Conv_26/biases/read:0\", shape=(64,), dtype=float32)\n",
      "name = Tensor(\"Conv_27/weights/read:0\", shape=(3, 3, 64, 64), dtype=float32)\n",
      "name = Tensor(\"Conv_27/biases/read:0\", shape=(64,), dtype=float32)\n",
      "name = Tensor(\"Conv_28/weights/read:0\", shape=(3, 3, 64, 64), dtype=float32)\n",
      "name = Tensor(\"Conv_28/biases/read:0\", shape=(64,), dtype=float32)\n",
      "name = Tensor(\"Conv_29/weights/read:0\", shape=(3, 3, 64, 64), dtype=float32)\n",
      "name = Tensor(\"Conv_29/biases/read:0\", shape=(64,), dtype=float32)\n",
      "name = Tensor(\"Conv_30/weights/read:0\", shape=(3, 3, 64, 64), dtype=float32)\n",
      "name = Tensor(\"Conv_30/biases/read:0\", shape=(64,), dtype=float32)\n",
      "name = Tensor(\"Conv_31/weights/read:0\", shape=(3, 3, 64, 64), dtype=float32)\n",
      "name = Tensor(\"Conv_31/biases/read:0\", shape=(64,), dtype=float32)\n",
      "name = Tensor(\"Conv_32/weights/read:0\", shape=(3, 3, 64, 64), dtype=float32)\n",
      "name = Tensor(\"Conv_32/biases/read:0\", shape=(64,), dtype=float32)\n",
      "name = Tensor(\"Conv_33/weights/read:0\", shape=(3, 3, 64, 64), dtype=float32)\n",
      "name = Tensor(\"Conv_33/biases/read:0\", shape=(64,), dtype=float32)\n",
      "name = Tensor(\"Conv_34/weights/read:0\", shape=(3, 3, 64, 64), dtype=float32)\n",
      "name = Tensor(\"Conv_34/biases/read:0\", shape=(64,), dtype=float32)\n",
      "name = Tensor(\"Conv_35/weights/read:0\", shape=(3, 3, 64, 64), dtype=float32)\n",
      "name = Tensor(\"Conv_35/biases/read:0\", shape=(64,), dtype=float32)\n",
      "name = Tensor(\"Conv_36/weights/read:0\", shape=(3, 3, 64, 64), dtype=float32)\n",
      "name = Tensor(\"Conv_36/biases/read:0\", shape=(64,), dtype=float32)\n",
      "name = Tensor(\"Conv_37/weights/read:0\", shape=(3, 3, 64, 64), dtype=float32)\n",
      "name = Tensor(\"Conv_37/biases/read:0\", shape=(64,), dtype=float32)\n",
      "name = Tensor(\"Conv_38/weights/read:0\", shape=(3, 3, 64, 64), dtype=float32)\n",
      "name = Tensor(\"Conv_38/biases/read:0\", shape=(64,), dtype=float32)\n",
      "name = Tensor(\"Conv_39/weights/read:0\", shape=(3, 3, 64, 64), dtype=float32)\n",
      "name = Tensor(\"Conv_39/biases/read:0\", shape=(64,), dtype=float32)\n",
      "name = Tensor(\"Conv_40/weights/read:0\", shape=(3, 3, 64, 64), dtype=float32)\n",
      "name = Tensor(\"Conv_40/biases/read:0\", shape=(64,), dtype=float32)\n",
      "name = Tensor(\"Conv_41/weights/read:0\", shape=(3, 3, 64, 64), dtype=float32)\n",
      "name = Tensor(\"Conv_41/biases/read:0\", shape=(64,), dtype=float32)\n",
      "name = Tensor(\"Conv_42/weights/read:0\", shape=(3, 3, 64, 64), dtype=float32)\n",
      "name = Tensor(\"Conv_42/biases/read:0\", shape=(64,), dtype=float32)\n",
      "name = Tensor(\"Conv_43/weights/read:0\", shape=(3, 3, 64, 64), dtype=float32)\n",
      "name = Tensor(\"Conv_43/biases/read:0\", shape=(64,), dtype=float32)\n",
      "name = Tensor(\"Conv_44/weights/read:0\", shape=(3, 3, 64, 64), dtype=float32)\n",
      "name = Tensor(\"Conv_44/biases/read:0\", shape=(64,), dtype=float32)\n",
      "name = Tensor(\"Conv_45/weights/read:0\", shape=(3, 3, 64, 64), dtype=float32)\n",
      "name = Tensor(\"Conv_45/biases/read:0\", shape=(64,), dtype=float32)\n",
      "name = Tensor(\"Conv_46/weights/read:0\", shape=(3, 3, 64, 64), dtype=float32)\n",
      "name = Tensor(\"Conv_46/biases/read:0\", shape=(64,), dtype=float32)\n",
      "name = Tensor(\"Conv_47/weights/read:0\", shape=(3, 3, 64, 64), dtype=float32)\n",
      "name = Tensor(\"Conv_47/biases/read:0\", shape=(64,), dtype=float32)\n",
      "name = Tensor(\"Conv_48/weights/read:0\", shape=(3, 3, 64, 64), dtype=float32)\n",
      "name = Tensor(\"Conv_48/biases/read:0\", shape=(64,), dtype=float32)\n",
      "name = Tensor(\"Conv_49/weights/read:0\", shape=(3, 3, 64, 64), dtype=float32)\n",
      "name = Tensor(\"Conv_49/biases/read:0\", shape=(64,), dtype=float32)\n",
      "name = Tensor(\"Conv_50/weights/read:0\", shape=(3, 3, 64, 64), dtype=float32)\n",
      "name = Tensor(\"Conv_50/biases/read:0\", shape=(64,), dtype=float32)\n",
      "name = Tensor(\"Conv_51/weights/read:0\", shape=(3, 3, 64, 64), dtype=float32)\n",
      "name = Tensor(\"Conv_51/biases/read:0\", shape=(64,), dtype=float32)\n",
      "name = Tensor(\"Conv_52/weights/read:0\", shape=(3, 3, 64, 64), dtype=float32)\n",
      "name = Tensor(\"Conv_52/biases/read:0\", shape=(64,), dtype=float32)\n",
      "name = Tensor(\"Conv_53/weights/read:0\", shape=(3, 3, 64, 64), dtype=float32)\n",
      "name = Tensor(\"Conv_53/biases/read:0\", shape=(64,), dtype=float32)\n",
      "name = Tensor(\"Conv_54/weights/read:0\", shape=(3, 3, 64, 64), dtype=float32)\n",
      "name = Tensor(\"Conv_54/biases/read:0\", shape=(64,), dtype=float32)\n",
      "name = Tensor(\"Conv_55/weights/read:0\", shape=(3, 3, 64, 64), dtype=float32)\n",
      "name = Tensor(\"Conv_55/biases/read:0\", shape=(64,), dtype=float32)\n",
      "name = Tensor(\"Conv_56/weights/read:0\", shape=(3, 3, 64, 64), dtype=float32)\n",
      "name = Tensor(\"Conv_56/biases/read:0\", shape=(64,), dtype=float32)\n",
      "name = Tensor(\"Conv_57/weights/read:0\", shape=(3, 3, 64, 64), dtype=float32)\n",
      "name = Tensor(\"Conv_57/biases/read:0\", shape=(64,), dtype=float32)\n",
      "name = Tensor(\"Conv_58/weights/read:0\", shape=(3, 3, 64, 64), dtype=float32)\n",
      "name = Tensor(\"Conv_58/biases/read:0\", shape=(64,), dtype=float32)\n",
      "name = Tensor(\"Conv_59/weights/read:0\", shape=(3, 3, 64, 64), dtype=float32)\n"
     ]
    },
    {
     "name": "stdout",
     "output_type": "stream",
     "text": [
      "name = Tensor(\"Conv_59/biases/read:0\", shape=(64,), dtype=float32)\n",
      "name = Tensor(\"Conv_60/weights/read:0\", shape=(3, 3, 64, 64), dtype=float32)\n",
      "name = Tensor(\"Conv_60/biases/read:0\", shape=(64,), dtype=float32)\n",
      "name = Tensor(\"Conv_61/weights/read:0\", shape=(3, 3, 64, 64), dtype=float32)\n",
      "name = Tensor(\"Conv_61/biases/read:0\", shape=(64,), dtype=float32)\n",
      "name = Tensor(\"Conv_62/weights/read:0\", shape=(3, 3, 64, 64), dtype=float32)\n",
      "name = Tensor(\"Conv_62/biases/read:0\", shape=(64,), dtype=float32)\n",
      "name = Tensor(\"Conv_63/weights/read:0\", shape=(3, 3, 64, 64), dtype=float32)\n",
      "name = Tensor(\"Conv_63/biases/read:0\", shape=(64,), dtype=float32)\n",
      "name = Tensor(\"Conv_64/weights/read:0\", shape=(3, 3, 64, 64), dtype=float32)\n",
      "name = Tensor(\"Conv_64/biases/read:0\", shape=(64,), dtype=float32)\n",
      "name = Tensor(\"Conv_65/weights/read:0\", shape=(3, 3, 64, 64), dtype=float32)\n",
      "name = Tensor(\"Conv_65/biases/read:0\", shape=(64,), dtype=float32)\n",
      "name = Tensor(\"Conv_66/weights/read:0\", shape=(3, 3, 64, 64), dtype=float32)\n",
      "name = Tensor(\"Conv_66/biases/read:0\", shape=(64,), dtype=float32)\n",
      "name = Tensor(\"Conv_67/weights/read:0\", shape=(3, 3, 64, 64), dtype=float32)\n",
      "name = Tensor(\"Conv_67/biases/read:0\", shape=(64,), dtype=float32)\n",
      "name = Tensor(\"Conv_68/weights/read:0\", shape=(3, 3, 64, 64), dtype=float32)\n",
      "name = Tensor(\"Conv_68/biases/read:0\", shape=(64,), dtype=float32)\n",
      "name = Tensor(\"Conv_69/weights/read:0\", shape=(3, 3, 64, 64), dtype=float32)\n",
      "name = Tensor(\"Conv_69/biases/read:0\", shape=(64,), dtype=float32)\n",
      "name = Tensor(\"Conv_70/weights/read:0\", shape=(3, 3, 64, 64), dtype=float32)\n",
      "name = Tensor(\"Conv_70/biases/read:0\", shape=(64,), dtype=float32)\n",
      "name = Tensor(\"Conv_71/weights/read:0\", shape=(3, 3, 64, 64), dtype=float32)\n",
      "name = Tensor(\"Conv_71/biases/read:0\", shape=(64,), dtype=float32)\n",
      "name = Tensor(\"Conv_72/weights/read:0\", shape=(3, 3, 64, 64), dtype=float32)\n",
      "name = Tensor(\"Conv_72/biases/read:0\", shape=(64,), dtype=float32)\n",
      "name = Tensor(\"Conv_73/weights/read:0\", shape=(3, 3, 64, 64), dtype=float32)\n",
      "name = Tensor(\"Conv_73/biases/read:0\", shape=(64,), dtype=float32)\n",
      "name = Tensor(\"Conv_74/weights/read:0\", shape=(3, 3, 64, 64), dtype=float32)\n",
      "name = Tensor(\"Conv_74/biases/read:0\", shape=(64,), dtype=float32)\n",
      "name = Tensor(\"Conv_75/weights/read:0\", shape=(3, 3, 64, 64), dtype=float32)\n",
      "name = Tensor(\"Conv_75/biases/read:0\", shape=(64,), dtype=float32)\n",
      "name = Tensor(\"Conv_76/weights/read:0\", shape=(3, 3, 64, 64), dtype=float32)\n",
      "name = Tensor(\"Conv_76/biases/read:0\", shape=(64,), dtype=float32)\n",
      "name = Tensor(\"Conv_77/weights/read:0\", shape=(3, 3, 64, 64), dtype=float32)\n",
      "name = Tensor(\"Conv_77/biases/read:0\", shape=(64,), dtype=float32)\n",
      "name = Tensor(\"Conv_78/weights/read:0\", shape=(3, 3, 64, 64), dtype=float32)\n",
      "name = Tensor(\"Conv_78/biases/read:0\", shape=(64,), dtype=float32)\n",
      "name = Tensor(\"Conv_79/weights/read:0\", shape=(3, 3, 64, 64), dtype=float32)\n",
      "name = Tensor(\"Conv_79/biases/read:0\", shape=(64,), dtype=float32)\n",
      "name = Tensor(\"Conv_80/weights/read:0\", shape=(3, 3, 64, 64), dtype=float32)\n",
      "name = Tensor(\"Conv_80/biases/read:0\", shape=(64,), dtype=float32)\n",
      "name = Tensor(\"Conv_81/weights/read:0\", shape=(3, 3, 64, 64), dtype=float32)\n",
      "name = Tensor(\"Conv_81/biases/read:0\", shape=(64,), dtype=float32)\n"
     ]
    }
   ],
   "source": [
    "for v in tf.trainable_variables():\n",
    "    print('name = {}'.format(v.value()))"
   ]
  },
  {
   "cell_type": "code",
   "execution_count": 10,
   "metadata": {},
   "outputs": [
    {
     "data": {
      "text/plain": [
       "2473521461320"
      ]
     },
     "execution_count": 10,
     "metadata": {},
     "output_type": "execute_result"
    }
   ],
   "source": [
    "a='1'\n",
    "id(a)"
   ]
  },
  {
   "cell_type": "code",
   "execution_count": 14,
   "metadata": {},
   "outputs": [
    {
     "name": "stdout",
     "output_type": "stream",
     "text": [
      "1\n"
     ]
    }
   ],
   "source": [
    "a=b=1;a=2\n",
    "print(b)"
   ]
  },
  {
   "cell_type": "code",
   "execution_count": null,
   "metadata": {
    "collapsed": true
   },
   "outputs": [],
   "source": []
  }
 ],
 "metadata": {
  "kernelspec": {
   "display_name": "Python 3",
   "language": "python",
   "name": "python3"
  }
 },
 "nbformat": 4,
 "nbformat_minor": 2
}
