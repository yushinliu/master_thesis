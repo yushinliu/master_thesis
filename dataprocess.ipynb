{
 "cells": [
  {
   "cell_type": "code",
   "execution_count": 1,
   "metadata": {
    "collapsed": true
   },
   "outputs": [],
   "source": [
    "import numpy as np\n",
    "import pickle\n",
    "import re\n",
    "import random\n",
    "import os\n",
    "from PIL import Image\n",
    "from cv2 import imread,imwrite\n",
    "import shutil\n",
    "\n",
    "save_path = \"train_video_list\\\\1.txt\"\n",
    "list_dir=\"train_video_list\""
   ]
  },
  {
   "cell_type": "code",
   "execution_count": 107,
   "metadata": {
    "collapsed": true
   },
   "outputs": [],
   "source": [
    "f = open(save_path,'r')\n",
    "train_id = []\n",
    "for line in f.readlines():\n",
    "    tmp=line.split(\"\\\\\")[4]\n",
    "    train_id.append(tmp.split(\"\t\")[0])\n",
    "f.close()"
   ]
  },
  {
   "cell_type": "code",
   "execution_count": 46,
   "metadata": {
    "collapsed": true
   },
   "outputs": [],
   "source": [
    "random.shuffle(train_id)"
   ]
  },
  {
   "cell_type": "code",
   "execution_count": 113,
   "metadata": {},
   "outputs": [
    {
     "data": {
      "text/plain": [
       "'170908_061502408_Camera_5'"
      ]
     },
     "execution_count": 113,
     "metadata": {},
     "output_type": "execute_result"
    }
   ],
   "source": [
    "train_id[0][:-4]"
   ]
  },
  {
   "cell_type": "code",
   "execution_count": 76,
   "metadata": {
    "collapsed": true
   },
   "outputs": [],
   "source": [
    "def extract_data(list_dir):\n",
    "    img={}\n",
    "    try:\n",
    "        for addr in os.listdir(list_dir):\n",
    "            f = open(list_dir+\"//\"+str(addr),'r')\n",
    "            train_id = []\n",
    "            for line in f.readlines():\n",
    "                tmp=line.split(\"\\\\\")[4]\n",
    "                train_id.append(tmp.split(\"\t\")[0])\n",
    "            f.close()\n",
    "            random.shuffle(train_id)\n",
    "            train_set=train_id[:np.int(len(train_id)*0.05)]\n",
    "            img[addr]=train_set\n",
    "    except:\n",
    "        print(\"errors occur\")\n",
    "    return img"
   ]
  },
  {
   "cell_type": "code",
   "execution_count": 77,
   "metadata": {
    "collapsed": true
   },
   "outputs": [],
   "source": [
    "img=extract_data(list_dir)"
   ]
  },
  {
   "cell_type": "code",
   "execution_count": 79,
   "metadata": {
    "collapsed": true
   },
   "outputs": [],
   "source": [
    "count = 0\n",
    "for k in img.keys():\n",
    "    count+=len(img[k])"
   ]
  },
  {
   "cell_type": "code",
   "execution_count": 80,
   "metadata": {},
   "outputs": [
    {
     "data": {
      "text/plain": [
       "2100"
      ]
     },
     "execution_count": 80,
     "metadata": {},
     "output_type": "execute_result"
    }
   ],
   "source": [
    "count"
   ]
  },
  {
   "cell_type": "code",
   "execution_count": null,
   "metadata": {
    "collapsed": true
   },
   "outputs": [],
   "source": [
    "def re_allocate(img,img_dir,save_dir):\n",
    "    os.makedir(save_dir+\"//train_color\")\n",
    "    os.makedir(save_dir+\"//train_label\")\n",
    "    try:\n",
    "        for id in img.keys():\n",
    "            for img_name in img[id]:\n",
    "                shutil.copy(img_dir+\"//\"+\"train_color\"+\"//\"+img_name,save_dir+\"//train_color\")\n",
    "                label_name=img_name[:-4]+\"_instanceIds.png\"\n",
    "                shutil.copy(img_dir+\"//\"+\"train_label\"+\"//\"+label_name,save_dir+\"//label_color\")\n",
    "    except:\n",
    "        print(\"errors occur\")\n",
    "            \n",
    "            "
   ]
  },
  {
   "cell_type": "code",
   "execution_count": 100,
   "metadata": {},
   "outputs": [
    {
     "data": {
      "text/plain": [
       "'train\\\\170908_072650121_Camera_5.jpg'"
      ]
     },
     "execution_count": 100,
     "metadata": {},
     "output_type": "execute_result"
    }
   ],
   "source": [
    "shutil.copy(\"train//train_color//170908_072650121_Camera_5.jpg\",\"train\")"
   ]
  },
  {
   "cell_type": "code",
   "execution_count": 101,
   "metadata": {
    "collapsed": true
   },
   "outputs": [],
   "source": [
    "test=[1,2,3,4,5,6]"
   ]
  },
  {
   "cell_type": "code",
   "execution_count": 103,
   "metadata": {},
   "outputs": [
    {
     "data": {
      "text/plain": [
       "[1, 2, 3, 4, 5]"
      ]
     },
     "execution_count": 103,
     "metadata": {},
     "output_type": "execute_result"
    }
   ],
   "source": [
    "test[:-1]"
   ]
  },
  {
   "cell_type": "code",
   "execution_count": 5,
   "metadata": {
    "collapsed": true
   },
   "outputs": [],
   "source": [
    "b=np.random.rand(5,5)\n",
    "a=np.random.rand(5,5)"
   ]
  },
  {
   "cell_type": "code",
   "execution_count": 8,
   "metadata": {},
   "outputs": [
    {
     "data": {
      "text/plain": [
       "(1, 5, 5)"
      ]
     },
     "execution_count": 8,
     "metadata": {},
     "output_type": "execute_result"
    }
   ],
   "source": [
    "a.reshape((1,)+b.shape).shape"
   ]
  },
  {
   "cell_type": "code",
   "execution_count": 10,
   "metadata": {
    "collapsed": true
   },
   "outputs": [],
   "source": [
    "mask_set=[]\n",
    "for i in range(3):\n",
    "    mask=a.reshape(a.shape+(1,))\n",
    "    mask_set.append(mask)"
   ]
  },
  {
   "cell_type": "code",
   "execution_count": 15,
   "metadata": {},
   "outputs": [
    {
     "data": {
      "text/plain": [
       "(3, 5, 5, 1)"
      ]
     },
     "execution_count": 15,
     "metadata": {},
     "output_type": "execute_result"
    }
   ],
   "source": [
    "np.array(mask_set).shape"
   ]
  },
  {
   "cell_type": "code",
   "execution_count": null,
   "metadata": {
    "collapsed": true
   },
   "outputs": [],
   "source": []
  }
 ],
 "metadata": {
  "kernelspec": {
   "display_name": "Python 3",
   "language": "python",
   "name": "python3"
  },
  "language_info": {
   "codemirror_mode": {
    "name": "ipython",
    "version": 3
   },
   "file_extension": ".py",
   "mimetype": "text/x-python",
   "name": "python",
   "nbconvert_exporter": "python",
   "pygments_lexer": "ipython3",
   "version": "3.6.1"
  }
 },
 "nbformat": 4,
 "nbformat_minor": 2
}
