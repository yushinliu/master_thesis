{
 "cells": [
  {
   "cell_type": "code",
   "execution_count": 1,
   "metadata": {},
   "outputs": [
    {
     "name": "stderr",
     "output_type": "stream",
     "text": [
      "D:\\ProgramData\\Anaconda3\\lib\\site-packages\\h5py\\__init__.py:34: FutureWarning: Conversion of the second argument of issubdtype from `float` to `np.floating` is deprecated. In future, it will be treated as `np.float64 == np.dtype(float).type`.\n",
      "  from ._conv import register_converters as _register_converters\n",
      "D:\\ProgramData\\Anaconda3\\lib\\site-packages\\matplotlib\\__init__.py:1405: UserWarning: \n",
      "This call to matplotlib.use() has no effect because the backend has already\n",
      "been chosen; matplotlib.use() must be called *before* pylab, matplotlib.pyplot,\n",
      "or matplotlib.backends is imported for the first time.\n",
      "\n",
      "  warnings.warn(_use_error_msg)\n"
     ]
    }
   ],
   "source": [
    "#basic packages\n",
    "import scipy.misc\n",
    "import random\n",
    "import numpy as np\n",
    "import os\n",
    "import matplotlib.pyplot as plt\n",
    "# processing bar\n",
    "from tqdm import tqdm\n",
    "import tensorflow as tf\n",
    "import pandas as pd\n",
    "import cv2\n",
    "\n",
    "#import EDSR model\n",
    "from model_lr_decay import EDSR\n",
    "from data_cv import load_dataset,crop_center,get_batch,get_test_set\n",
    "from psnr_cal import new_psnr,psnr"
   ]
  },
  {
   "cell_type": "code",
   "execution_count": 2,
   "metadata": {},
   "outputs": [],
   "source": [
    "from sklearn.model_selection import KFold"
   ]
  },
  {
   "cell_type": "code",
   "execution_count": 3,
   "metadata": {},
   "outputs": [
    {
     "name": "stdout",
     "output_type": "stream",
     "text": [
      " the battery is 990\n",
      "train data extract finsihed\n"
     ]
    }
   ],
   "source": [
    "train_set,test_set=load_dataset(\"D://LAB//master_thesis//dataset\",['battery'])"
   ]
  },
  {
   "cell_type": "code",
   "execution_count": 4,
   "metadata": {},
   "outputs": [
    {
     "name": "stderr",
     "output_type": "stream",
     "text": [
      "D:\\ProgramData\\Anaconda3\\lib\\site-packages\\scipy\\misc\\pilutil.py:482: FutureWarning: Conversion of the second argument of issubdtype from `int` to `np.signedinteger` is deprecated. In future, it will be treated as `np.int32 == np.dtype(int).type`.\n",
      "  if issubdtype(ts, int):\n",
      "D:\\ProgramData\\Anaconda3\\lib\\site-packages\\scipy\\misc\\pilutil.py:485: FutureWarning: Conversion of the second argument of issubdtype from `float` to `np.floating` is deprecated. In future, it will be treated as `np.float64 == np.dtype(float).type`.\n",
      "  elif issubdtype(type(size), float):\n"
     ]
    }
   ],
   "source": [
    "x_set,y_set,batch_index=get_batch(10,60)"
   ]
  },
  {
   "cell_type": "code",
   "execution_count": null,
   "metadata": {
    "collapsed": true
   },
   "outputs": [],
   "source": [
    "x_set,y_set=get_test_set(60)"
   ]
  },
  {
   "cell_type": "code",
   "execution_count": 8,
   "metadata": {},
   "outputs": [
    {
     "data": {
      "text/plain": [
       "(10, 60, 60, 1)"
      ]
     },
     "execution_count": 8,
     "metadata": {},
     "output_type": "execute_result"
    }
   ],
   "source": [
    "np.array(x_set[0]).shape"
   ]
  },
  {
   "cell_type": "code",
   "execution_count": 4,
   "metadata": {},
   "outputs": [
    {
     "data": {
      "text/plain": [
       "(792, 120, 120)"
      ]
     },
     "execution_count": 4,
     "metadata": {},
     "output_type": "execute_result"
    }
   ],
   "source": [
    "train_set[0].shape"
   ]
  },
  {
   "cell_type": "code",
   "execution_count": 24,
   "metadata": {},
   "outputs": [
    {
     "data": {
      "text/plain": [
       "(792, 120, 120)"
      ]
     },
     "execution_count": 24,
     "metadata": {},
     "output_type": "execute_result"
    }
   ],
   "source": [
    "X_train.shape"
   ]
  },
  {
   "cell_type": "code",
   "execution_count": 2,
   "metadata": {
    "collapsed": true
   },
   "outputs": [],
   "source": [
    "A=np.random.rand(2,3)\n",
    "x=tf.split(A,3,1)\n",
    "\n",
    "with tf.Session() as sess:\n",
    "    result=sess.run(x)"
   ]
  },
  {
   "cell_type": "code",
   "execution_count": 3,
   "metadata": {},
   "outputs": [
    {
     "data": {
      "text/plain": [
       "[array([[0.23713354],\n",
       "        [0.60814532]]), array([[0.88515683],\n",
       "        [0.54844019]]), array([[0.56878687],\n",
       "        [0.69894284]])]"
      ]
     },
     "execution_count": 3,
     "metadata": {},
     "output_type": "execute_result"
    }
   ],
   "source": [
    "result"
   ]
  },
  {
   "cell_type": "code",
   "execution_count": 4,
   "metadata": {},
   "outputs": [
    {
     "name": "stdout",
     "output_type": "stream",
     "text": [
      " the battery is 7676\n",
      " the PCB is 87129\n",
      " the BioStone is 53308\n",
      "train data extract finsihed\n",
      " the battery is 851\n",
      " the PCB is 7728\n",
      " the BioStone is 4526\n",
      "test data extract finsihed\n"
     ]
    }
   ],
   "source": [
    "train_set,test_set=load_dataset(\"D://LAB//master_thesis//dataset\")"
   ]
  },
  {
   "cell_type": "code",
   "execution_count": 5,
   "metadata": {},
   "outputs": [
    {
     "name": "stderr",
     "output_type": "stream",
     "text": [
      "D:\\ProgramData\\Anaconda3\\lib\\site-packages\\scipy\\misc\\pilutil.py:482: FutureWarning: Conversion of the second argument of issubdtype from `int` to `np.signedinteger` is deprecated. In future, it will be treated as `np.int32 == np.dtype(int).type`.\n",
      "  if issubdtype(ts, int):\n",
      "D:\\ProgramData\\Anaconda3\\lib\\site-packages\\scipy\\misc\\pilutil.py:485: FutureWarning: Conversion of the second argument of issubdtype from `float` to `np.floating` is deprecated. In future, it will be treated as `np.float64 == np.dtype(float).type`.\n",
      "  elif issubdtype(type(size), float):\n"
     ]
    }
   ],
   "source": [
    "input_img,target_img,batch_size=get_batch(100,60)"
   ]
  },
  {
   "cell_type": "code",
   "execution_count": 10,
   "metadata": {},
   "outputs": [
    {
     "data": {
      "text/plain": [
       "871"
      ]
     },
     "execution_count": 10,
     "metadata": {},
     "output_type": "execute_result"
    }
   ],
   "source": [
    "len(input_img)"
   ]
  },
  {
   "cell_type": "code",
   "execution_count": 7,
   "metadata": {},
   "outputs": [
    {
     "data": {
      "text/plain": [
       "(60, 60, 1)"
      ]
     },
     "execution_count": 7,
     "metadata": {},
     "output_type": "execute_result"
    }
   ],
   "source": [
    "input_img[0].shape"
   ]
  },
  {
   "cell_type": "code",
   "execution_count": 6,
   "metadata": {},
   "outputs": [
    {
     "name": "stderr",
     "output_type": "stream",
     "text": [
      "D:\\ProgramData\\Anaconda3\\lib\\site-packages\\scipy\\misc\\pilutil.py:482: FutureWarning: Conversion of the second argument of issubdtype from `int` to `np.signedinteger` is deprecated. In future, it will be treated as `np.int32 == np.dtype(int).type`.\n",
      "  if issubdtype(ts, int):\n",
      "D:\\ProgramData\\Anaconda3\\lib\\site-packages\\scipy\\misc\\pilutil.py:485: FutureWarning: Conversion of the second argument of issubdtype from `float` to `np.floating` is deprecated. In future, it will be treated as `np.float64 == np.dtype(float).type`.\n",
      "  elif issubdtype(type(size), float):\n"
     ]
    }
   ],
   "source": [
    "x,y=get_test_set(60)"
   ]
  },
  {
   "cell_type": "code",
   "execution_count": 7,
   "metadata": {},
   "outputs": [
    {
     "data": {
      "text/plain": [
       "(60, 60, 1)"
      ]
     },
     "execution_count": 7,
     "metadata": {},
     "output_type": "execute_result"
    }
   ],
   "source": [
    "x[0].shape"
   ]
  },
  {
   "cell_type": "code",
   "execution_count": 12,
   "metadata": {},
   "outputs": [
    {
     "data": {
      "image/png": "[encoded data removed]",
      "text/plain": [
       "<matplotlib.figure.Figure at 0x1ac3a947b70>"
      ]
     },
     "metadata": {},
     "output_type": "display_data"
    }
   ],
   "source": [
    "plt.imshow(train_set['BioStone'][0],cmap='gray')\n",
    "plt.show()"
   ]
  },
  {
   "cell_type": "markdown",
   "metadata": {},
   "source": [
    "# 1. Train the EDSR on CT images"
   ]
  },
  {
   "cell_type": "code",
   "execution_count": 5,
   "metadata": {},
   "outputs": [
    {
     "name": "stdout",
     "output_type": "stream",
     "text": [
      "Building EDSR...\n",
      "None\n",
      "Done building!\n"
     ]
    }
   ],
   "source": [
    "network=EDSR(60,16,64,2)"
   ]
  },
  {
   "cell_type": "code",
   "execution_count": 6,
   "metadata": {
    "collapsed": true
   },
   "outputs": [],
   "source": [
    "network.set_data_fn(get_batch,(10,60),get_test_set,60)"
   ]
  },
  {
   "cell_type": "code",
   "execution_count": 7,
   "metadata": {},
   "outputs": [
    {
     "name": "stdout",
     "output_type": "stream",
     "text": [
      "Begin training...\n"
     ]
    },
    {
     "name": "stderr",
     "output_type": "stream",
     "text": [
      "D:\\ProgramData\\Anaconda3\\lib\\site-packages\\scipy\\misc\\pilutil.py:482: FutureWarning: Conversion of the second argument of issubdtype from `int` to `np.signedinteger` is deprecated. In future, it will be treated as `np.int32 == np.dtype(int).type`.\n",
      "  if issubdtype(ts, int):\n",
      "D:\\ProgramData\\Anaconda3\\lib\\site-packages\\scipy\\misc\\pilutil.py:485: FutureWarning: Conversion of the second argument of issubdtype from `float` to `np.floating` is deprecated. In future, it will be treated as `np.float64 == np.dtype(float).type`.\n",
      "  elif issubdtype(type(size), float):\n"
     ]
    },
    {
     "name": "stdout",
     "output_type": "stream",
     "text": [
      " the time cost is 0.000033 minute------------------]0.20%\n",
      "done>>>>>>>>>>>>>>>>>>>>>>>>>>>>>>>>>>>>>>>>>>>>>>>]100.00%\n",
      "Saving...\n",
      "Saved!\n"
     ]
    }
   ],
   "source": [
    "input_img,target_img,output_img=network.train(100,0.9,500)"
   ]
  },
  {
   "cell_type": "code",
   "execution_count": 30,
   "metadata": {},
   "outputs": [
    {
     "data": {
      "text/plain": [
       "array([[[[-14.301706  ],\n",
       "         [-19.233782  ],\n",
       "         [-23.31948   ],\n",
       "         ...,\n",
       "         [-19.367382  ],\n",
       "         [-18.499577  ],\n",
       "         [-16.731146  ]],\n",
       "\n",
       "        [[-20.59622   ],\n",
       "         [-24.14067   ],\n",
       "         [-24.785728  ],\n",
       "         ...,\n",
       "         [-22.606127  ],\n",
       "         [-17.229212  ],\n",
       "         [-16.6612    ]],\n",
       "\n",
       "        [[-28.723295  ],\n",
       "         [-28.635649  ],\n",
       "         [-27.274307  ],\n",
       "         ...,\n",
       "         [-28.322985  ],\n",
       "         [-25.15124   ],\n",
       "         [-24.889894  ]],\n",
       "\n",
       "        ...,\n",
       "\n",
       "        [[-27.460455  ],\n",
       "         [-31.570932  ],\n",
       "         [-29.822512  ],\n",
       "         ...,\n",
       "         [-30.145897  ],\n",
       "         [-31.900099  ],\n",
       "         [-25.892597  ]],\n",
       "\n",
       "        [[-26.799412  ],\n",
       "         [-26.943995  ],\n",
       "         [-32.719444  ],\n",
       "         ...,\n",
       "         [-28.502996  ],\n",
       "         [-22.39846   ],\n",
       "         [-18.604574  ]],\n",
       "\n",
       "        [[-19.903065  ],\n",
       "         [-23.546398  ],\n",
       "         [-28.27318   ],\n",
       "         ...,\n",
       "         [-22.140804  ],\n",
       "         [-19.497051  ],\n",
       "         [-17.818981  ]]],\n",
       "\n",
       "\n",
       "       [[[ 11.321798  ],\n",
       "         [ 20.971035  ],\n",
       "         [ 28.893442  ],\n",
       "         ...,\n",
       "         [ 18.723957  ],\n",
       "         [ 15.973314  ],\n",
       "         [ 12.632312  ]],\n",
       "\n",
       "        [[ 16.036386  ],\n",
       "         [ 20.20901   ],\n",
       "         [ 27.05229   ],\n",
       "         ...,\n",
       "         [ 19.303532  ],\n",
       "         [ 18.185816  ],\n",
       "         [ 18.8001    ]],\n",
       "\n",
       "        [[ 19.987236  ],\n",
       "         [ 21.136063  ],\n",
       "         [ 21.052135  ],\n",
       "         ...,\n",
       "         [ 19.092607  ],\n",
       "         [ 22.673811  ],\n",
       "         [ 24.719149  ]],\n",
       "\n",
       "        ...,\n",
       "\n",
       "        [[ 13.16281   ],\n",
       "         [ 16.178198  ],\n",
       "         [ 17.916744  ],\n",
       "         ...,\n",
       "         [  3.6099513 ],\n",
       "         [  0.8081562 ],\n",
       "         [  1.4095124 ]],\n",
       "\n",
       "        [[ 10.215376  ],\n",
       "         [ 10.491893  ],\n",
       "         [ 15.138065  ],\n",
       "         ...,\n",
       "         [ -0.9963193 ],\n",
       "         [  0.13083895],\n",
       "         [  1.5376937 ]],\n",
       "\n",
       "        [[  7.327607  ],\n",
       "         [  9.996668  ],\n",
       "         [ 12.665556  ],\n",
       "         ...,\n",
       "         [ -2.0752192 ],\n",
       "         [  0.14138912],\n",
       "         [  0.68084794]]],\n",
       "\n",
       "\n",
       "       [[[-23.55795   ],\n",
       "         [-32.57607   ],\n",
       "         [-42.605167  ],\n",
       "         ...,\n",
       "         [-41.515102  ],\n",
       "         [-38.707535  ],\n",
       "         [-33.24762   ]],\n",
       "\n",
       "        [[-33.130074  ],\n",
       "         [-38.38303   ],\n",
       "         [-45.681477  ],\n",
       "         ...,\n",
       "         [-45.856388  ],\n",
       "         [-35.727665  ],\n",
       "         [-33.914238  ]],\n",
       "\n",
       "        [[-43.684296  ],\n",
       "         [-44.657093  ],\n",
       "         [-48.267967  ],\n",
       "         ...,\n",
       "         [-51.274242  ],\n",
       "         [-46.854412  ],\n",
       "         [-46.514183  ]],\n",
       "\n",
       "        ...,\n",
       "\n",
       "        [[-45.615776  ],\n",
       "         [-54.534668  ],\n",
       "         [-55.289772  ],\n",
       "         ...,\n",
       "         [-48.406353  ],\n",
       "         [-49.93458   ],\n",
       "         [-40.902027  ]],\n",
       "\n",
       "        [[-43.81837   ],\n",
       "         [-45.07534   ],\n",
       "         [-54.82967   ],\n",
       "         ...,\n",
       "         [-46.73207   ],\n",
       "         [-35.71334   ],\n",
       "         [-29.985601  ]],\n",
       "\n",
       "        [[-32.38368   ],\n",
       "         [-37.597523  ],\n",
       "         [-45.403255  ],\n",
       "         ...,\n",
       "         [-38.67294   ],\n",
       "         [-32.57443   ],\n",
       "         [-28.812342  ]]],\n",
       "\n",
       "\n",
       "       ...,\n",
       "\n",
       "\n",
       "       [[[ 27.478828  ],\n",
       "         [ 44.338833  ],\n",
       "         [ 54.505184  ],\n",
       "         ...,\n",
       "         [ 51.736794  ],\n",
       "         [ 43.162727  ],\n",
       "         [ 34.90299   ]],\n",
       "\n",
       "        [[ 35.588318  ],\n",
       "         [ 44.45872   ],\n",
       "         [ 52.73501   ],\n",
       "         ...,\n",
       "         [ 55.272854  ],\n",
       "         [ 48.512478  ],\n",
       "         [ 52.02315   ]],\n",
       "\n",
       "        [[ 44.158363  ],\n",
       "         [ 47.5271    ],\n",
       "         [ 55.742012  ],\n",
       "         ...,\n",
       "         [ 61.04418   ],\n",
       "         [ 67.32047   ],\n",
       "         [ 72.3276    ]],\n",
       "\n",
       "        ...,\n",
       "\n",
       "        [[ 67.97294   ],\n",
       "         [ 97.60732   ],\n",
       "         [124.62829   ],\n",
       "         ...,\n",
       "         [ 53.17236   ],\n",
       "         [ 67.873955  ],\n",
       "         [ 67.374664  ]],\n",
       "\n",
       "        [[ 67.17293   ],\n",
       "         [ 74.78765   ],\n",
       "         [117.16432   ],\n",
       "         ...,\n",
       "         [ 58.203625  ],\n",
       "         [ 52.884872  ],\n",
       "         [ 53.0375    ]],\n",
       "\n",
       "        [[ 55.019302  ],\n",
       "         [ 71.55628   ],\n",
       "         [ 96.70803   ],\n",
       "         ...,\n",
       "         [ 56.679447  ],\n",
       "         [ 41.477974  ],\n",
       "         [ 36.86446   ]]],\n",
       "\n",
       "\n",
       "       [[[ 16.174736  ],\n",
       "         [ 25.195295  ],\n",
       "         [ 28.36159   ],\n",
       "         ...,\n",
       "         [ 48.43408   ],\n",
       "         [ 38.649708  ],\n",
       "         [ 30.20584   ]],\n",
       "\n",
       "        [[ 22.380568  ],\n",
       "         [ 28.174387  ],\n",
       "         [ 30.304289  ],\n",
       "         ...,\n",
       "         [ 53.713253  ],\n",
       "         [ 42.29199   ],\n",
       "         [ 43.034737  ]],\n",
       "\n",
       "        [[ 31.885798  ],\n",
       "         [ 35.961243  ],\n",
       "         [ 39.12248   ],\n",
       "         ...,\n",
       "         [ 56.853325  ],\n",
       "         [ 55.105667  ],\n",
       "         [ 55.715267  ]],\n",
       "\n",
       "        ...,\n",
       "\n",
       "        [[ 45.134453  ],\n",
       "         [ 52.674778  ],\n",
       "         [ 52.41787   ],\n",
       "         ...,\n",
       "         [ 66.17325   ],\n",
       "         [ 69.86947   ],\n",
       "         [ 61.485695  ]],\n",
       "\n",
       "        [[ 41.404778  ],\n",
       "         [ 39.801094  ],\n",
       "         [ 56.70997   ],\n",
       "         ...,\n",
       "         [ 67.93561   ],\n",
       "         [ 54.624863  ],\n",
       "         [ 52.224766  ]],\n",
       "\n",
       "        [[ 32.75128   ],\n",
       "         [ 40.471916  ],\n",
       "         [ 53.349396  ],\n",
       "         ...,\n",
       "         [ 63.395844  ],\n",
       "         [ 44.263035  ],\n",
       "         [ 37.175655  ]]],\n",
       "\n",
       "\n",
       "       [[[ -5.1817145 ],\n",
       "         [ -7.6051416 ],\n",
       "         [-10.807638  ],\n",
       "         ...,\n",
       "         [ -3.977927  ],\n",
       "         [ -7.7275486 ],\n",
       "         [-11.445876  ]],\n",
       "\n",
       "        [[ -8.998175  ],\n",
       "         [ -9.245004  ],\n",
       "         [-14.888567  ],\n",
       "         ...,\n",
       "         [-13.277969  ],\n",
       "         [ -9.369053  ],\n",
       "         [-10.537988  ]],\n",
       "\n",
       "        [[-13.134609  ],\n",
       "         [-13.404268  ],\n",
       "         [-15.845443  ],\n",
       "         ...,\n",
       "         [-29.930801  ],\n",
       "         [-25.85472   ],\n",
       "         [-22.00294   ]],\n",
       "\n",
       "        ...,\n",
       "\n",
       "        [[-20.45843   ],\n",
       "         [-20.421139  ],\n",
       "         [-16.7616    ],\n",
       "         ...,\n",
       "         [-14.319235  ],\n",
       "         [ -4.9908247 ],\n",
       "         [ -0.18615016]],\n",
       "\n",
       "        [[-17.53699   ],\n",
       "         [-17.007769  ],\n",
       "         [-21.073421  ],\n",
       "         ...,\n",
       "         [-17.863634  ],\n",
       "         [ -8.965171  ],\n",
       "         [ -2.683421  ]],\n",
       "\n",
       "        [[-12.968828  ],\n",
       "         [-16.011517  ],\n",
       "         [-19.88675   ],\n",
       "         ...,\n",
       "         [-18.664806  ],\n",
       "         [-12.961674  ],\n",
       "         [ -6.394663  ]]]], dtype=float32)"
      ]
     },
     "execution_count": 30,
     "metadata": {},
     "output_type": "execute_result"
    }
   ],
   "source": [
    "output_img"
   ]
  },
  {
   "cell_type": "code",
   "execution_count": 16,
   "metadata": {
    "collapsed": true
   },
   "outputs": [],
   "source": [
    "target_new_img=target_img-np.mean(target_img)"
   ]
  },
  {
   "cell_type": "code",
   "execution_count": 36,
   "metadata": {
    "collapsed": true
   },
   "outputs": [],
   "source": [
    "import utils"
   ]
  },
  {
   "cell_type": "code",
   "execution_count": 45,
   "metadata": {},
   "outputs": [
    {
     "name": "stderr",
     "output_type": "stream",
     "text": [
      "D:\\ProgramData\\Anaconda3\\lib\\site-packages\\scipy\\misc\\pilutil.py:482: FutureWarning: Conversion of the second argument of issubdtype from `int` to `np.signedinteger` is deprecated. In future, it will be treated as `np.int32 == np.dtype(int).type`.\n",
      "  if issubdtype(ts, int):\n",
      "D:\\ProgramData\\Anaconda3\\lib\\site-packages\\scipy\\misc\\pilutil.py:485: FutureWarning: Conversion of the second argument of issubdtype from `float` to `np.floating` is deprecated. In future, it will be treated as `np.float64 == np.dtype(float).type`.\n",
      "  elif issubdtype(type(size), float):\n"
     ]
    },
    {
     "name": "stdout",
     "output_type": "stream",
     "text": [
      "17.558165\n",
      "36.29437\n"
     ]
    },
    {
     "data": {
      "text/html": [
       "<div>\n",
       "<style>\n",
       "    .dataframe thead tr:only-child th {\n",
       "        text-align: right;\n",
       "    }\n",
       "\n",
       "    .dataframe thead th {\n",
       "        text-align: left;\n",
       "    }\n",
       "\n",
       "    .dataframe tbody tr th {\n",
       "        vertical-align: top;\n",
       "    }\n",
       "</style>\n",
       "<table border=\"1\" class=\"dataframe\">\n",
       "  <thead>\n",
       "    <tr style=\"text-align: right;\">\n",
       "      <th></th>\n",
       "      <th>bicubic</th>\n",
       "      <th>edsr</th>\n",
       "    </tr>\n",
       "  </thead>\n",
       "  <tbody>\n",
       "    <tr>\n",
       "      <th>0</th>\n",
       "      <td>12.116735</td>\n",
       "      <td>41.413498</td>\n",
       "    </tr>\n",
       "    <tr>\n",
       "      <th>1</th>\n",
       "      <td>31.716923</td>\n",
       "      <td>35.126869</td>\n",
       "    </tr>\n",
       "    <tr>\n",
       "      <th>2</th>\n",
       "      <td>8.519739</td>\n",
       "      <td>45.963043</td>\n",
       "    </tr>\n",
       "    <tr>\n",
       "      <th>3</th>\n",
       "      <td>17.433893</td>\n",
       "      <td>31.521584</td>\n",
       "    </tr>\n",
       "    <tr>\n",
       "      <th>4</th>\n",
       "      <td>11.153062</td>\n",
       "      <td>31.871801</td>\n",
       "    </tr>\n",
       "    <tr>\n",
       "      <th>5</th>\n",
       "      <td>11.331447</td>\n",
       "      <td>30.429697</td>\n",
       "    </tr>\n",
       "    <tr>\n",
       "      <th>6</th>\n",
       "      <td>20.002396</td>\n",
       "      <td>21.831825</td>\n",
       "    </tr>\n",
       "    <tr>\n",
       "      <th>7</th>\n",
       "      <td>22.962627</td>\n",
       "      <td>31.064079</td>\n",
       "    </tr>\n",
       "    <tr>\n",
       "      <th>8</th>\n",
       "      <td>6.350452</td>\n",
       "      <td>47.148182</td>\n",
       "    </tr>\n",
       "    <tr>\n",
       "      <th>9</th>\n",
       "      <td>31.280125</td>\n",
       "      <td>41.084450</td>\n",
       "    </tr>\n",
       "    <tr>\n",
       "      <th>10</th>\n",
       "      <td>9.084304</td>\n",
       "      <td>45.413021</td>\n",
       "    </tr>\n",
       "    <tr>\n",
       "      <th>11</th>\n",
       "      <td>8.224910</td>\n",
       "      <td>38.982227</td>\n",
       "    </tr>\n",
       "    <tr>\n",
       "      <th>12</th>\n",
       "      <td>8.980299</td>\n",
       "      <td>38.480106</td>\n",
       "    </tr>\n",
       "    <tr>\n",
       "      <th>13</th>\n",
       "      <td>17.282370</td>\n",
       "      <td>37.324825</td>\n",
       "    </tr>\n",
       "    <tr>\n",
       "      <th>14</th>\n",
       "      <td>28.091137</td>\n",
       "      <td>41.500957</td>\n",
       "    </tr>\n",
       "    <tr>\n",
       "      <th>15</th>\n",
       "      <td>6.968459</td>\n",
       "      <td>47.440243</td>\n",
       "    </tr>\n",
       "    <tr>\n",
       "      <th>16</th>\n",
       "      <td>30.204016</td>\n",
       "      <td>40.659706</td>\n",
       "    </tr>\n",
       "    <tr>\n",
       "      <th>17</th>\n",
       "      <td>14.475954</td>\n",
       "      <td>40.010323</td>\n",
       "    </tr>\n",
       "    <tr>\n",
       "      <th>18</th>\n",
       "      <td>18.378571</td>\n",
       "      <td>23.951887</td>\n",
       "    </tr>\n",
       "    <tr>\n",
       "      <th>19</th>\n",
       "      <td>19.813747</td>\n",
       "      <td>40.469822</td>\n",
       "    </tr>\n",
       "    <tr>\n",
       "      <th>20</th>\n",
       "      <td>13.954082</td>\n",
       "      <td>41.063423</td>\n",
       "    </tr>\n",
       "    <tr>\n",
       "      <th>21</th>\n",
       "      <td>10.314643</td>\n",
       "      <td>41.653248</td>\n",
       "    </tr>\n",
       "    <tr>\n",
       "      <th>22</th>\n",
       "      <td>22.083492</td>\n",
       "      <td>27.927454</td>\n",
       "    </tr>\n",
       "    <tr>\n",
       "      <th>23</th>\n",
       "      <td>16.290705</td>\n",
       "      <td>32.315746</td>\n",
       "    </tr>\n",
       "    <tr>\n",
       "      <th>24</th>\n",
       "      <td>14.759470</td>\n",
       "      <td>34.320568</td>\n",
       "    </tr>\n",
       "    <tr>\n",
       "      <th>25</th>\n",
       "      <td>14.983356</td>\n",
       "      <td>32.358284</td>\n",
       "    </tr>\n",
       "    <tr>\n",
       "      <th>26</th>\n",
       "      <td>19.167604</td>\n",
       "      <td>39.295074</td>\n",
       "    </tr>\n",
       "    <tr>\n",
       "      <th>27</th>\n",
       "      <td>11.510865</td>\n",
       "      <td>41.394081</td>\n",
       "    </tr>\n",
       "    <tr>\n",
       "      <th>28</th>\n",
       "      <td>30.586952</td>\n",
       "      <td>32.931786</td>\n",
       "    </tr>\n",
       "    <tr>\n",
       "      <th>29</th>\n",
       "      <td>11.453460</td>\n",
       "      <td>45.436295</td>\n",
       "    </tr>\n",
       "    <tr>\n",
       "      <th>30</th>\n",
       "      <td>21.317669</td>\n",
       "      <td>22.748577</td>\n",
       "    </tr>\n",
       "    <tr>\n",
       "      <th>31</th>\n",
       "      <td>14.340794</td>\n",
       "      <td>24.609823</td>\n",
       "    </tr>\n",
       "    <tr>\n",
       "      <th>32</th>\n",
       "      <td>11.093859</td>\n",
       "      <td>32.228519</td>\n",
       "    </tr>\n",
       "    <tr>\n",
       "      <th>33</th>\n",
       "      <td>36.467098</td>\n",
       "      <td>39.196072</td>\n",
       "    </tr>\n",
       "    <tr>\n",
       "      <th>34</th>\n",
       "      <td>12.810450</td>\n",
       "      <td>39.078915</td>\n",
       "    </tr>\n",
       "    <tr>\n",
       "      <th>35</th>\n",
       "      <td>20.085993</td>\n",
       "      <td>37.970631</td>\n",
       "    </tr>\n",
       "    <tr>\n",
       "      <th>36</th>\n",
       "      <td>21.284319</td>\n",
       "      <td>41.010426</td>\n",
       "    </tr>\n",
       "    <tr>\n",
       "      <th>37</th>\n",
       "      <td>16.461885</td>\n",
       "      <td>39.026768</td>\n",
       "    </tr>\n",
       "    <tr>\n",
       "      <th>38</th>\n",
       "      <td>33.201851</td>\n",
       "      <td>36.639442</td>\n",
       "    </tr>\n",
       "    <tr>\n",
       "      <th>39</th>\n",
       "      <td>24.523270</td>\n",
       "      <td>43.004581</td>\n",
       "    </tr>\n",
       "    <tr>\n",
       "      <th>40</th>\n",
       "      <td>14.217943</td>\n",
       "      <td>24.751638</td>\n",
       "    </tr>\n",
       "    <tr>\n",
       "      <th>41</th>\n",
       "      <td>14.099225</td>\n",
       "      <td>32.033936</td>\n",
       "    </tr>\n",
       "    <tr>\n",
       "      <th>42</th>\n",
       "      <td>10.599979</td>\n",
       "      <td>40.205723</td>\n",
       "    </tr>\n",
       "    <tr>\n",
       "      <th>43</th>\n",
       "      <td>15.468561</td>\n",
       "      <td>29.453640</td>\n",
       "    </tr>\n",
       "    <tr>\n",
       "      <th>44</th>\n",
       "      <td>21.619738</td>\n",
       "      <td>42.476101</td>\n",
       "    </tr>\n",
       "    <tr>\n",
       "      <th>45</th>\n",
       "      <td>14.851001</td>\n",
       "      <td>35.638756</td>\n",
       "    </tr>\n",
       "    <tr>\n",
       "      <th>46</th>\n",
       "      <td>24.867586</td>\n",
       "      <td>33.207569</td>\n",
       "    </tr>\n",
       "    <tr>\n",
       "      <th>47</th>\n",
       "      <td>17.433744</td>\n",
       "      <td>33.027996</td>\n",
       "    </tr>\n",
       "    <tr>\n",
       "      <th>48</th>\n",
       "      <td>9.207051</td>\n",
       "      <td>39.825897</td>\n",
       "    </tr>\n",
       "    <tr>\n",
       "      <th>49</th>\n",
       "      <td>14.120923</td>\n",
       "      <td>37.114025</td>\n",
       "    </tr>\n",
       "    <tr>\n",
       "      <th>50</th>\n",
       "      <td>15.078144</td>\n",
       "      <td>28.636473</td>\n",
       "    </tr>\n",
       "    <tr>\n",
       "      <th>51</th>\n",
       "      <td>13.923935</td>\n",
       "      <td>28.306831</td>\n",
       "    </tr>\n",
       "    <tr>\n",
       "      <th>52</th>\n",
       "      <td>20.410986</td>\n",
       "      <td>34.413261</td>\n",
       "    </tr>\n",
       "    <tr>\n",
       "      <th>53</th>\n",
       "      <td>23.740408</td>\n",
       "      <td>28.791769</td>\n",
       "    </tr>\n",
       "    <tr>\n",
       "      <th>54</th>\n",
       "      <td>13.739345</td>\n",
       "      <td>44.770493</td>\n",
       "    </tr>\n",
       "    <tr>\n",
       "      <th>55</th>\n",
       "      <td>16.386417</td>\n",
       "      <td>41.519337</td>\n",
       "    </tr>\n",
       "    <tr>\n",
       "      <th>56</th>\n",
       "      <td>20.708408</td>\n",
       "      <td>41.883205</td>\n",
       "    </tr>\n",
       "    <tr>\n",
       "      <th>57</th>\n",
       "      <td>17.297344</td>\n",
       "      <td>29.929970</td>\n",
       "    </tr>\n",
       "    <tr>\n",
       "      <th>58</th>\n",
       "      <td>15.614351</td>\n",
       "      <td>43.676125</td>\n",
       "    </tr>\n",
       "    <tr>\n",
       "      <th>59</th>\n",
       "      <td>29.041779</td>\n",
       "      <td>32.101593</td>\n",
       "    </tr>\n",
       "  </tbody>\n",
       "</table>\n",
       "</div>"
      ],
      "text/plain": [
       "      bicubic       edsr\n",
       "0   12.116735  41.413498\n",
       "1   31.716923  35.126869\n",
       "2    8.519739  45.963043\n",
       "3   17.433893  31.521584\n",
       "4   11.153062  31.871801\n",
       "5   11.331447  30.429697\n",
       "6   20.002396  21.831825\n",
       "7   22.962627  31.064079\n",
       "8    6.350452  47.148182\n",
       "9   31.280125  41.084450\n",
       "10   9.084304  45.413021\n",
       "11   8.224910  38.982227\n",
       "12   8.980299  38.480106\n",
       "13  17.282370  37.324825\n",
       "14  28.091137  41.500957\n",
       "15   6.968459  47.440243\n",
       "16  30.204016  40.659706\n",
       "17  14.475954  40.010323\n",
       "18  18.378571  23.951887\n",
       "19  19.813747  40.469822\n",
       "20  13.954082  41.063423\n",
       "21  10.314643  41.653248\n",
       "22  22.083492  27.927454\n",
       "23  16.290705  32.315746\n",
       "24  14.759470  34.320568\n",
       "25  14.983356  32.358284\n",
       "26  19.167604  39.295074\n",
       "27  11.510865  41.394081\n",
       "28  30.586952  32.931786\n",
       "29  11.453460  45.436295\n",
       "30  21.317669  22.748577\n",
       "31  14.340794  24.609823\n",
       "32  11.093859  32.228519\n",
       "33  36.467098  39.196072\n",
       "34  12.810450  39.078915\n",
       "35  20.085993  37.970631\n",
       "36  21.284319  41.010426\n",
       "37  16.461885  39.026768\n",
       "38  33.201851  36.639442\n",
       "39  24.523270  43.004581\n",
       "40  14.217943  24.751638\n",
       "41  14.099225  32.033936\n",
       "42  10.599979  40.205723\n",
       "43  15.468561  29.453640\n",
       "44  21.619738  42.476101\n",
       "45  14.851001  35.638756\n",
       "46  24.867586  33.207569\n",
       "47  17.433744  33.027996\n",
       "48   9.207051  39.825897\n",
       "49  14.120923  37.114025\n",
       "50  15.078144  28.636473\n",
       "51  13.923935  28.306831\n",
       "52  20.410986  34.413261\n",
       "53  23.740408  28.791769\n",
       "54  13.739345  44.770493\n",
       "55  16.386417  41.519337\n",
       "56  20.708408  41.883205\n",
       "57  17.297344  29.929970\n",
       "58  15.614351  43.676125\n",
       "59  29.041779  32.101593"
      ]
     },
     "execution_count": 45,
     "metadata": {},
     "output_type": "execute_result"
    }
   ],
   "source": [
    "psnr_cal(output_img,input_img,target_new_img,target_img,shrunk_size=60,save_dir=\"saved_models//bicubic.csv\")"
   ]
  },
  {
   "cell_type": "code",
   "execution_count": 10,
   "metadata": {},
   "outputs": [
    {
     "ename": "NameError",
     "evalue": "name 'y' is not defined",
     "output_type": "error",
     "traceback": [
      "\u001b[1;31m---------------------------------------------------------------------------\u001b[0m",
      "\u001b[1;31mNameError\u001b[0m                                 Traceback (most recent call last)",
      "\u001b[1;32m<ipython-input-10-927e27514198>\u001b[0m in \u001b[0;36m<module>\u001b[1;34m()\u001b[0m\n\u001b[0;32m      2\u001b[0m \u001b[1;32mfor\u001b[0m \u001b[0mindex\u001b[0m \u001b[1;32min\u001b[0m \u001b[0mrange\u001b[0m\u001b[1;33m(\u001b[0m\u001b[0moutput_img\u001b[0m\u001b[1;33m.\u001b[0m\u001b[0mshape\u001b[0m\u001b[1;33m[\u001b[0m\u001b[1;36m0\u001b[0m\u001b[1;33m]\u001b[0m\u001b[1;33m)\u001b[0m\u001b[1;33m:\u001b[0m\u001b[1;33m\u001b[0m\u001b[0m\n\u001b[0;32m      3\u001b[0m     \u001b[0mimg\u001b[0m\u001b[1;33m=\u001b[0m\u001b[0moutput_img\u001b[0m\u001b[1;33m[\u001b[0m\u001b[0mindex\u001b[0m\u001b[1;33m,\u001b[0m\u001b[1;33m:\u001b[0m\u001b[1;33m,\u001b[0m\u001b[1;33m:\u001b[0m\u001b[1;33m,\u001b[0m\u001b[1;33m:\u001b[0m\u001b[1;33m]\u001b[0m\u001b[1;33m.\u001b[0m\u001b[0mreshape\u001b[0m\u001b[1;33m(\u001b[0m\u001b[0moutput_img\u001b[0m\u001b[1;33m.\u001b[0m\u001b[0mshape\u001b[0m\u001b[1;33m[\u001b[0m\u001b[1;36m1\u001b[0m\u001b[1;33m]\u001b[0m\u001b[1;33m,\u001b[0m\u001b[0moutput_img\u001b[0m\u001b[1;33m.\u001b[0m\u001b[0mshape\u001b[0m\u001b[1;33m[\u001b[0m\u001b[1;36m1\u001b[0m\u001b[1;33m]\u001b[0m\u001b[1;33m)\u001b[0m\u001b[1;33m\u001b[0m\u001b[0m\n\u001b[1;32m----> 4\u001b[1;33m     \u001b[0mtarget\u001b[0m\u001b[1;33m=\u001b[0m\u001b[0my\u001b[0m\u001b[1;33m[\u001b[0m\u001b[0mindex\u001b[0m\u001b[1;33m]\u001b[0m\u001b[1;33m.\u001b[0m\u001b[0mreshape\u001b[0m\u001b[1;33m(\u001b[0m\u001b[0my\u001b[0m\u001b[1;33m[\u001b[0m\u001b[0mindex\u001b[0m\u001b[1;33m]\u001b[0m\u001b[1;33m.\u001b[0m\u001b[0mshape\u001b[0m\u001b[1;33m[\u001b[0m\u001b[1;36m0\u001b[0m\u001b[1;33m]\u001b[0m\u001b[1;33m,\u001b[0m\u001b[0my\u001b[0m\u001b[1;33m[\u001b[0m\u001b[0mindex\u001b[0m\u001b[1;33m]\u001b[0m\u001b[1;33m.\u001b[0m\u001b[0mshape\u001b[0m\u001b[1;33m[\u001b[0m\u001b[1;36m0\u001b[0m\u001b[1;33m]\u001b[0m\u001b[1;33m)\u001b[0m\u001b[1;33m\u001b[0m\u001b[0m\n\u001b[0m\u001b[0;32m      5\u001b[0m     \u001b[0moutput_psnr\u001b[0m\u001b[1;33m.\u001b[0m\u001b[0mappend\u001b[0m\u001b[1;33m(\u001b[0m\u001b[0mPSNR\u001b[0m\u001b[1;33m(\u001b[0m\u001b[0mimg\u001b[0m\u001b[1;33m,\u001b[0m\u001b[0mtarget\u001b[0m\u001b[1;33m)\u001b[0m\u001b[1;33m)\u001b[0m\u001b[1;33m\u001b[0m\u001b[0m\n",
      "\u001b[1;31mNameError\u001b[0m: name 'y' is not defined"
     ]
    }
   ],
   "source": [
    "output_psnr=[]\n",
    "for index in range(output_img.shape[0]):\n",
    "    \n",
    "    img=output_img[index,:,:,:].reshape(output_img.shape[1],output_img.shape[1])\n",
    "    target=y[index].reshape(y[index].shape[0],y[index].shape[0])\n",
    "    output_psnr.append(PSNR(img,target))"
   ]
  },
  {
   "cell_type": "markdown",
   "metadata": {
    "collapsed": true
   },
   "source": [
    "# 2. STORE the psnr of each image "
   ]
  },
  {
   "cell_type": "code",
   "execution_count": 26,
   "metadata": {},
   "outputs": [
    {
     "data": {
      "text/plain": [
       "True"
      ]
     },
     "execution_count": 26,
     "metadata": {},
     "output_type": "execute_result"
    }
   ],
   "source": [
    "os.makedirs(\"save//image\")\n",
    "cv2.imwrite(\"save//image//test.png\",test)"
   ]
  },
  {
   "cell_type": "code",
   "execution_count": 19,
   "metadata": {},
   "outputs": [
    {
     "data": {
      "text/plain": [
       "array([[101,  97,  90, ..., 103,  96,  92],\n",
       "       [102, 100,  95, ..., 106, 101,  98],\n",
       "       [104, 104, 104, ..., 111, 109, 107],\n",
       "       ...,\n",
       "       [110, 107, 103, ..., 106, 108, 110],\n",
       "       [108, 107, 107, ..., 108, 112, 115],\n",
       "       [106, 107, 109, ..., 110, 115, 118]], dtype=uint8)"
      ]
     },
     "execution_count": 19,
     "metadata": {},
     "output_type": "execute_result"
    }
   ],
   "source": [
    "cv2.resize(test,(120,120),interpolation=cv2.INTER_CUBIC)"
   ]
  },
  {
   "cell_type": "code",
   "execution_count": 54,
   "metadata": {},
   "outputs": [
    {
     "name": "stderr",
     "output_type": "stream",
     "text": [
      "D:\\ProgramData\\Anaconda3\\lib\\site-packages\\scipy\\misc\\pilutil.py:482: FutureWarning: Conversion of the second argument of issubdtype from `int` to `np.signedinteger` is deprecated. In future, it will be treated as `np.int32 == np.dtype(int).type`.\n",
      "  if issubdtype(ts, int):\n",
      "D:\\ProgramData\\Anaconda3\\lib\\site-packages\\scipy\\misc\\pilutil.py:485: FutureWarning: Conversion of the second argument of issubdtype from `float` to `np.floating` is deprecated. In future, it will be treated as `np.float64 == np.dtype(float).type`.\n",
      "  elif issubdtype(type(size), float):\n"
     ]
    }
   ],
   "source": [
    "psnr_set=bicubic(get_test_set,60)"
   ]
  },
  {
   "cell_type": "code",
   "execution_count": 10,
   "metadata": {},
   "outputs": [
    {
     "name": "stderr",
     "output_type": "stream",
     "text": [
      "D:\\ProgramData\\Anaconda3\\lib\\site-packages\\scipy\\misc\\pilutil.py:482: FutureWarning: Conversion of the second argument of issubdtype from `int` to `np.signedinteger` is deprecated. In future, it will be treated as `np.int32 == np.dtype(int).type`.\n",
      "  if issubdtype(ts, int):\n",
      "D:\\ProgramData\\Anaconda3\\lib\\site-packages\\scipy\\misc\\pilutil.py:485: FutureWarning: Conversion of the second argument of issubdtype from `float` to `np.floating` is deprecated. In future, it will be treated as `np.float64 == np.dtype(float).type`.\n",
      "  elif issubdtype(type(size), float):\n"
     ]
    }
   ],
   "source": [
    "x,y=get_test_set(60)"
   ]
  },
  {
   "cell_type": "code",
   "execution_count": 21,
   "metadata": {},
   "outputs": [
    {
     "name": "stderr",
     "output_type": "stream",
     "text": [
      "D:\\ProgramData\\Anaconda3\\lib\\site-packages\\scipy\\misc\\pilutil.py:482: FutureWarning: Conversion of the second argument of issubdtype from `int` to `np.signedinteger` is deprecated. In future, it will be treated as `np.int32 == np.dtype(int).type`.\n",
      "  if issubdtype(ts, int):\n",
      "D:\\ProgramData\\Anaconda3\\lib\\site-packages\\scipy\\misc\\pilutil.py:485: FutureWarning: Conversion of the second argument of issubdtype from `float` to `np.floating` is deprecated. In future, it will be treated as `np.float64 == np.dtype(float).type`.\n",
      "  elif issubdtype(type(size), float):\n"
     ]
    },
    {
     "data": {
      "image/png": "[encoded data removed]",
      "text/plain": [
       "<matplotlib.figure.Figure at 0x1804ae7d6a0>"
      ]
     },
     "metadata": {},
     "output_type": "display_data"
    }
   ],
   "source": [
    "bicubic_img=scipy.misc.imresize(img,(120,120),interp='bicubic')\n",
    "plt.imshow(bicubic_img,cmap='gray')\n",
    "plt.axis(\"off\")\n",
    "plt.show()"
   ]
  },
  {
   "cell_type": "code",
   "execution_count": 20,
   "metadata": {
    "collapsed": true
   },
   "outputs": [],
   "source": [
    "img=x[0].reshape(60,60)"
   ]
  },
  {
   "cell_type": "code",
   "execution_count": 23,
   "metadata": {},
   "outputs": [
    {
     "data": {
      "image/png": "[encoded data removed]",
      "text/plain": [
       "<matplotlib.figure.Figure at 0x180692c9c50>"
      ]
     },
     "metadata": {},
     "output_type": "display_data"
    }
   ],
   "source": [
    "plt.imshow(test_set[0],cmap='gray')\n",
    "plt.axis(\"off\")\n",
    "plt.show()"
   ]
  },
  {
   "cell_type": "code",
   "execution_count": null,
   "metadata": {
    "collapsed": true
   },
   "outputs": [],
   "source": []
  }
 ],
 "metadata": {
  "kernelspec": {
   "display_name": "Python 3",
   "language": "python",
   "name": "python3"
  },
  "language_info": {
   "codemirror_mode": {
    "name": "ipython",
    "version": 3
   },
   "file_extension": ".py",
   "mimetype": "text/x-python",
   "name": "python",
   "nbconvert_exporter": "python",
   "pygments_lexer": "ipython3",
   "version": "3.6.1"
  }
 },
 "nbformat": 4,
 "nbformat_minor": 2
}
