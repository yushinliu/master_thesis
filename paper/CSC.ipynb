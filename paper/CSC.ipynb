{
 "cells": [
  {
   "cell_type": "markdown",
   "metadata": {
    "collapsed": true
   },
   "source": [
    "# 1. CSCC Mathematical Framework"
   ]
  },
  {
   "cell_type": "markdown",
   "metadata": {},
   "source": [
    "convolutional sparse coding is formulated as the optimization problem\n",
    "\n",
    "$$argmin_{d,z}\\sum_{j=1}^{J}1/2||b^{j}-\\sum_{w=1}^{W}d_{w}*z_{w}^{j}||_{2}^{2}+\\beta\\sum_{w=1}^{W}||z_{w}^{j}||_{1}$$\n",
    "$$subject\\ to\\ ||d_{w}||_{2}^{2}\\le1$$\n",
    "\n",
    "$b^j$ are vectorized images and $z_{w}^{j}$ are feature maps and * is the m-dimensional convolution operating on the vectorized inputs\n",
    "$d_{w}$ is the fliter\n"
   ]
  },
  {
   "cell_type": "markdown",
   "metadata": {
    "collapsed": true
   },
   "source": [
    "the difference between traditional CSC and CCSC is that in CCSC we divided entire dataset b into learning from small er subsets which can be solved individually with modest memory and computational requirements"
   ]
  },
  {
   "cell_type": "markdown",
   "metadata": {
    "collapsed": true
   },
   "source": [
    "# 2. Traditional CSC "
   ]
  },
  {
   "cell_type": "markdown",
   "metadata": {},
   "source": [
    "CSC-SR involved training phase and testing phase, in training phase we learn three group of parameters \n",
    "1. LR fliter\n",
    "2. mapping function between LR and HR feature maps\n",
    "3. HR fliters\n",
    "\n",
    "and in testing phase the input LR image first decomposed into sparse LR feature maps by using the learned LR filters. then the mapping function is employed to estimate HR feature maps from LR feature maps, finally the HR images is reconstructed by simple convolution operation"
   ]
  },
  {
   "cell_type": "markdown",
   "metadata": {},
   "source": [
    "** Training Phase **\n",
    "\n",
    "In dictionary learning based SISR, a couple of dictionaries\n",
    "together with certain mapping function are generally\n",
    "used to model the relationship between LR and HR images\n",
    "\n",
    "1. LR filter learning for CSC decomposition \n",
    "\n",
    "in order to obtain sparse feature maps, we decompose the LR image into one smooth component and one residual component \n",
    "\n",
    "to extract the smooth component of the LR image we first solve the optimization problem $$min_{z}||y-f^{s}*Z_{y}^{s}||_{F}^{2}+\\gamma||f^{dh}*Z_{y}^{s}||_{F}^{2}+\\gamma||f^{dv}*Z_{y}^{s}||_{F}^{2}$$\n",
    "and $Z_{y}$ is the low frequency feature map of LR image LR image y, $f^{s}$ is a 3*3 low pass filter with all coefficients being 1/9. $f^{dh}$ and $f^{dv}$ are the horizontal and vertical derivative operators [1,-1] and [1;_1], the equation can be efficiently solved in the Fourier domain\n",
    "\n",
    "After Having $Z_{y}^{s}$ we can decompose the LRA images as :$$y = f^{s}*Z_{y}^{s}+Y$$ and $f^{s}*Z_{y}$ is the smooth component of the LR image ,and Y is residual component and can be decomposed into N feature maps $$min_{f}||Y-\\sum_{i=1}^{N}f_{i}^{l}||_{F}^{2}+\\lambda\\sum_{i=1}^{N}||Z_{i}^{l}||_{1}, s.t.||f_{i}^{l}||_{F}^{2}\\leqslant 1$$, it can be solved in optimizing Z and f subproblems"
   ]
  },
  {
   "cell_type": "code",
   "execution_count": null,
   "metadata": {
    "collapsed": true
   },
   "outputs": [],
   "source": []
  }
 ],
 "metadata": {
  "kernelspec": {
   "display_name": "Python 3",
   "language": "python",
   "name": "python3"
  },
  "language_info": {
   "codemirror_mode": {
    "name": "ipython",
    "version": 3
   },
   "file_extension": ".py",
   "mimetype": "text/x-python",
   "name": "python",
   "nbconvert_exporter": "python",
   "pygments_lexer": "ipython3",
   "version": "3.6.1"
  }
 },
 "nbformat": 4,
 "nbformat_minor": 2
}
