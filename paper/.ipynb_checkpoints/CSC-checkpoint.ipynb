{
 "cells": [
  {
   "cell_type": "markdown",
   "metadata": {
    "collapsed": true
   },
   "source": [
    "# 1. CSCC Mathematical Framework"
   ]
  },
  {
   "cell_type": "markdown",
   "metadata": {},
   "source": [
    "convolutional sparse coding is formulated as the optimization problem\n",
    "\n",
    "$$argmin_{d,z}\\sum_{j=1}^{J}1/2||b^{j}-\\sum_{w=1}^{W}d_{w}*z_{w}^{j}||_{2}^{2}+\\beta\\sum_{w=1}^{W}||z_{w}^{j}||_{1}$$\n",
    "$$subject\\ to\\ ||d_{w}||_{2}^{2}\\le1$$\n",
    "\n",
    "$b^j$ are vectorized images and $z_{w}^{j}$ are feature maps and * is the m-dimensional convolution operating on the vectorized inputs\n",
    "$d_{w}$ is the fliter\n"
   ]
  },
  {
   "cell_type": "markdown",
   "metadata": {
    "collapsed": true
   },
   "source": [
    "the difference between traditional CSC and CCSC is that in CCSC we divided entire dataset b into learning from small er subsets which can be solved individually with modest memory and computational requirements"
   ]
  },
  {
   "cell_type": "markdown",
   "metadata": {
    "collapsed": true
   },
   "source": [
    "# 2. Traditional CSC "
   ]
  },
  {
   "cell_type": "markdown",
   "metadata": {},
   "source": [
    "CSC-SR involved training phase and testing phase, in training phase we learn three group of parameters \n",
    "1. LR fliter\n",
    "2. mapping function between LR and HR feature maps\n",
    "3. HR fliters\n",
    "\n",
    "and in testing phase the input LR image first decomposed into sparse LR feature maps by using the learned LR filters. then the mapping function is employed to estimate HR feature maps from LR feature maps, finally the HR images is reconstructed by simple convolution operation"
   ]
  },
  {
   "cell_type": "markdown",
   "metadata": {},
   "source": [
    "** Training Phase **\n",
    "\n",
    "In dictionary learning based SISR, a couple of dictionaries\n",
    "together with certain mapping function are generally\n",
    "used to model the relationship between LR and HR images\n",
    "\n",
    "1. LR filter learning for CSC decomposition \n",
    "\n",
    "in order to obtain sparse feature maps, we decompose the LR image into one smooth com"
   ]
  },
  {
   "cell_type": "code",
   "execution_count": null,
   "metadata": {
    "collapsed": true
   },
   "outputs": [],
   "source": []
  }
 ],
 "metadata": {
  "kernelspec": {
   "display_name": "Python 3",
   "language": "python",
   "name": "python3"
  },
  "language_info": {
   "codemirror_mode": {
    "name": "ipython",
    "version": 3
   },
   "file_extension": ".py",
   "mimetype": "text/x-python",
   "name": "python",
   "nbconvert_exporter": "python",
   "pygments_lexer": "ipython3",
   "version": "3.6.1"
  }
 },
 "nbformat": 4,
 "nbformat_minor": 2
}
