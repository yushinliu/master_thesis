{
 "cells": [
  {
   "cell_type": "markdown",
   "metadata": {
    "collapsed": true
   },
   "source": [
    "# 1. Modivation"
   ]
  },
  {
   "cell_type": "markdown",
   "metadata": {},
   "source": [
    "SR image reconstruction is the method of using signal processing techniques to obtain an HR image frome observed multiple low-resolution(LR)images, restore the HR image from several degraded and aliased LR images\n",
    "\n",
    "the SR image algorithm approximately can be divided into 2 steps:\n",
    "1. formulate an observation model that relates original HR image to the observed LR images.\n",
    "2. Reconstruction methods which contains 2 different methods called Nonuniform Interpolation Approach and apporches in frequency domain"
   ]
  },
  {
   "cell_type": "code",
   "execution_count": 14,
   "metadata": {
    "collapsed": true
   },
   "outputs": [],
   "source": [
    "from distutils.core import setup\n",
    "from Cython.Build import cythonize\n",
    "from math import exp"
   ]
  },
  {
   "cell_type": "markdown",
   "metadata": {},
   "source": [
    "# 2. Observation model"
   ]
  },
  {
   "cell_type": "markdown",
   "metadata": {},
   "source": [
    "Notation: \n",
    "1. $x=[x_{1},x_{2},...,x_{N}]$ is the HR image sampled, N is the size of image:$L_{1}N_{1}*L_{2}N_{2}$\n",
    "2. $y_{k}=[y_{k,1},y_{k,2},...,y_{k,M}]^{T}$ is the kth LR image and size of it is $N_{1}*N_{2}$\n",
    "\n",
    "Observed LR images result from warping, blurring and ubsampling operators performed on the HR image x, \n",
    "\n",
    "$$y_{k}=DB_{k}M_{k}x+n_{k}$$\n",
    "\n",
    "the resolution level can not extend the level of HR image sampled"
   ]
  },
  {
   "cell_type": "markdown",
   "metadata": {},
   "source": [
    "# 3. Reconstruction"
   ]
  },
  {
   "cell_type": "code",
   "execution_count": null,
   "metadata": {
    "collapsed": true
   },
   "outputs": [],
   "source": []
  }
 ],
 "metadata": {
  "kernelspec": {
   "display_name": "Python 3",
   "language": "python",
   "name": "python3"
  },
  "language_info": {
   "codemirror_mode": {
    "name": "ipython",
    "version": 3
   },
   "file_extension": ".py",
   "mimetype": "text/x-python",
   "name": "python",
   "nbconvert_exporter": "python",
   "pygments_lexer": "ipython3",
   "version": "3.6.1"
  }
 },
 "nbformat": 4,
 "nbformat_minor": 2
}
