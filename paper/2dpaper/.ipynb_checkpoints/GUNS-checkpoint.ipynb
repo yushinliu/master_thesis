{
 "cells": [
  {
   "cell_type": "markdown",
   "metadata": {
    "collapsed": true
   },
   "source": [
    "# 1. GUNS"
   ]
  },
  {
   "cell_type": "markdown",
   "metadata": {},
   "source": [
    "characteristic:\n",
    "1. relax the difficulties in training, reduce the direct magnification task into sub-network\n",
    "2. intialize with few samples, gradually optimized with more training samples\n",
    "3. decrease the computational cost"
   ]
  },
  {
   "cell_type": "markdown",
   "metadata": {},
   "source": [
    "method:\n",
    "\n",
    "conv+upsampling block turn by turn , in backpropagation, propagated error value passed by need to be downsampled"
   ]
  }
 ],
 "metadata": {
  "kernelspec": {
   "display_name": "Python 3",
   "language": "python",
   "name": "python3"
  },
  "language_info": {
   "codemirror_mode": {
    "name": "ipython",
    "version": 3
   },
   "file_extension": ".py",
   "mimetype": "text/x-python",
   "name": "python",
   "nbconvert_exporter": "python",
   "pygments_lexer": "ipython3",
   "version": "3.6.1"
  }
 },
 "nbformat": 4,
 "nbformat_minor": 2
}
